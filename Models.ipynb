{
 "cells": [
  {
   "cell_type": "markdown",
   "metadata": {},
   "source": [
    "## This notebooks contains different models tried to classify whether employee will get promotions or not.\n",
    "\n",
    "### Approach Used to handle Imbalanced Dataset\n",
    "#### Resampling\n",
    "- Undersampling\n",
    "- Oversampling\n",
    "- SMOTE (kind of Oversampling)\n",
    "- NearMiss\n",
    "- RandomOver/Under Sampler\n",
    "- SMOTEENN\n",
    "- SMOTETomek\n",
    "\n",
    "#### Algorithmic Approach\n",
    "- Cost Sensitive learning\n",
    "- Ensemble techniques\n",
    "\n",
    "### Feature Engineering\n",
    "\n",
    "- Difference between training score of individual with comapny's, dept, region, dept-region eompployees\n",
    "- Difference between training score of individual with gender, gender-dept, gende-region, dept-region-gender eompployees\n",
    "- Difference between training score of individual with age, age-dept, age-region, age-dept-region eompployees\n",
    "- Difference between no. of trainings of individual with comapny's, dept, region, dept-region eompployees\n",
    "- Difference between no. of trainings of individual with gender, gender-dept, gender-region, gender-dept-region eompployees\n",
    "- Difference between no. of trainings of individual with age, age-dept, age-region, age-dept-region eompployees\n"
   ]
  },
  {
   "cell_type": "code",
   "execution_count": null,
   "metadata": {},
   "outputs": [],
   "source": [
    "import numpy as np\n",
    "import pandas as pd\n",
    "import matplotlib.pyplot as plt\n",
    "\n",
    "\n",
    "import seaborn as sns\n",
    "import itertools\n",
    "import warnings\n",
    "warnings.filterwarnings('ignore')\n",
    "\n",
    "plt.style.use('fivethirtyeight')\n",
    "\n",
    "from sklearn.model_selection import train_test_split,StratifiedShuffleSplit,GridSearchCV\n",
    "from sklearn.preprocessing import LabelEncoder,OneHotEncoder,StandardScaler\n",
    "\n",
    "\n",
    "#importing all the required ML packages\n",
    "from sklearn.linear_model import LogisticRegression\n",
    "from sklearn.ensemble import RandomForestClassifier, AdaBoostClassifier #Random Forest\n",
    "from sklearn.tree import DecisionTreeClassifier #Decision Tree\n",
    "from sklearn import metrics #accuracy measure\n",
    "\n",
    "\n",
    "from imblearn.over_sampling import SMOTE, RandomOverSampler,ADASYN\n",
    "from imblearn.under_sampling import ClusterCentroids,NearMiss, RandomUnderSampler\n",
    "from imblearn.combine import SMOTEENN,SMOTETomek\n",
    "from imblearn.ensemble import BalanceCascade\n",
    "from sklearn.model_selection import KFold, cross_val_score,StratifiedKFold\n",
    "from sklearn.metrics import accuracy_score,confusion_matrix,precision_recall_curve,auc,roc_auc_score,\\\n",
    "roc_curve,recall_score,classification_report ,f1_score,precision_score\n",
    "\n",
    "from sklearn.preprocessing import StandardScaler, OneHotEncoder\n",
    "\n",
    "\n",
    "# sampler objects\n",
    "from imblearn.pipeline import make_pipeline, Pipeline\n",
    "\n",
    "\n",
    "\n",
    "%matplotlib inline"
   ]
  },
  {
   "cell_type": "code",
   "execution_count": 2,
   "metadata": {},
   "outputs": [],
   "source": [
    "def resample_data_v2(clf, x, y, cv, scoring, sampler):\n",
    "    '''\n",
    "        This function computes the cross-validation score of a given \n",
    "        classifier using a choice of sampling function to mitigate \n",
    "        the class imbalance, and stratified k-fold sampling.\n",
    "        \n",
    "        The first five arguments are the same as \n",
    "        sklearn.model_selection.cross_val_score.\n",
    "        \n",
    "        - clf.predict_proba(x) returns class label probabilities\n",
    "        - clf.fit(x,y) trains the model\n",
    "        \n",
    "        - x = data\n",
    "        \n",
    "        - y = labels\n",
    "        \n",
    "        - cv = the number of folds in the cross validation\n",
    "        \n",
    "        - scoring(classifier, x, y) returns a float\n",
    "        \n",
    "        The last argument is a choice of random sampler: an object \n",
    "        similar to the sampler objects available from the python \n",
    "        package imbalanced-learn. In particular, this \n",
    "        object needs to have the method:\n",
    "        \n",
    "        sampler.fit_sample(x,y)\n",
    "        \n",
    "    '''\n",
    "    \n",
    "    cv_score = 0.\n",
    "    train_score = 0.\n",
    "    test_score = 0.\n",
    "    \n",
    "    # stratified k-fold creates folds with the same ratio of positive \n",
    "    # and negative samples as the entire dataset.\n",
    "    \n",
    "    skf = StratifiedKFold(n_splits=cv, random_state=0, shuffle=False)\n",
    "    \n",
    "    for train_idx, test_idx in skf.split(x,y):\n",
    "        #print(train_idx,test_idx)\n",
    "        xfold_train_sampled, yfold_train_sampled = sampler.fit_sample(x.iloc[train_idx],y.iloc[train_idx])\n",
    "        clf.fit(xfold_train_sampled, yfold_train_sampled)\n",
    "        \n",
    "        prediction1=clf.predict(x.iloc[test_idx])\n",
    "        \n",
    "        print(\"__\"*50,\"\\n\")\n",
    "        print('The accuracy of the Logistic Regression is',metrics.accuracy_score(y.iloc[test_idx],prediction1))\n",
    "        print(\"__\"*50,\"\\n\")\n",
    "        print('The F1 score of the Logistic Regression is',metrics.f1_score(y.iloc[test_idx],prediction1))\n",
    "        print(\"__\"*50,\"\\n\")\n",
    "        print(classification_report(y.iloc[test_idx],prediction1))\n",
    "        print(\"__\"*50)\n",
    "        sns.heatmap(confusion_matrix(y.iloc[test_idx],prediction1),annot=True,fmt=\"d\")\n",
    "        plt.xlabel('Predicted')\n",
    "        plt.ylabel('Actual')\n",
    "        plt.title('Confusion Matrix')\n",
    "        plt.show()\n",
    "        "
   ]
  },
  {
   "cell_type": "code",
   "execution_count": 3,
   "metadata": {},
   "outputs": [],
   "source": [
    "def fill_missing_data(df):\n",
    "    ## most frequent education level\n",
    "    df['education'].fillna(df['education'].mode()[0], inplace=True)\n",
    "\n",
    "    ## Creat special category of rating \"NO_Rating\" as employees less than 1 year in company have no \"previous year rating\"\n",
    "    df['previous_year_rating'].fillna(df['previous_year_rating'].fillna('NO_Rating'), inplace=True)\n",
    "    \n",
    "    return df"
   ]
  },
  {
   "cell_type": "code",
   "execution_count": 4,
   "metadata": {},
   "outputs": [
    {
     "name": "stdout",
     "output_type": "stream",
     "text": [
      "Shape Train data : (54808, 15)\n",
      "Shape Test data : (23490, 14)\n",
      "Shape Full data : (78298, 15)\n"
     ]
    }
   ],
   "source": [
    "df_train=pd.read_csv(\"train.csv\")\n",
    "df_test=pd.read_csv(\"test.csv\")\n",
    "df_train['source']='train'\n",
    "df_test['source']='test'\n",
    "df_full=pd.concat([df_train,df_test])\n",
    "print('Shape Train data :',df_train.shape)\n",
    "print('Shape Test data :',df_test.shape)\n",
    "print('Shape Full data :',df_full.shape)"
   ]
  },
  {
   "cell_type": "code",
   "execution_count": 5,
   "metadata": {},
   "outputs": [],
   "source": [
    "def fit_features_scaler_encoder(df_train,num_features,cat_features):\n",
    "    \n",
    "    scalar = StandardScaler()\n",
    "    scalar.fit(df_train[num_features])\n",
    "    \n",
    "    #encoder = OneHotEncoder()\n",
    "    #encoder.fit(df_train[cat_features])\n",
    "    \n",
    "        \n",
    "    return scalar\n",
    "    \n",
    "def transform_features(df, scaler,num_features,cat_features):\n",
    "   \n",
    "    \n",
    "    df[num_features] = scaler.transform(df[num_features])\n",
    "    \n",
    "    df_encode=pd.get_dummies(df[cat_features])\n",
    "    \n",
    "    df_scaled_final=pd.concat((df[num_features],df_encode),axis=1)\n",
    "    \n",
    "    return df_scaled_final"
   ]
  },
  {
   "cell_type": "code",
   "execution_count": 6,
   "metadata": {},
   "outputs": [],
   "source": [
    "def prepare_data(df,num_features,cat_features):\n",
    "    df=fill_missing_data(df)\n",
    "    scalar=fit_features_scaler_encoder(df,num_features,cat_features)\n",
    "    scaled_df=transform_features(df,scalar,num_features,cat_features)\n",
    "    scaled_df['is_promoted']=df['is_promoted']\n",
    "    scaled_df['source']=df['source']\n",
    "    \n",
    "    X=scaled_df[scaled_df['source']=='train'].drop(['is_promoted','source'],axis=1)\n",
    "    y=scaled_df[scaled_df['source']=='train']['is_promoted']\n",
    "    X_train,X_valid,y_train,y_valid = train_test_split(X,y,test_size=0.3 ,random_state=0)\n",
    "    \n",
    "    X_test=scaled_df[scaled_df['source']=='test'].drop(['is_promoted','source'],axis=1)\n",
    "       \n",
    "    print(\"X_train: \"+str(X_train.shape)+\" \"+\"X_valid: \"+str(X_valid.shape)+\" \"+\"y_train: \"+str(y_train.shape)+\" \"+\"y_valid: \"+str(y_valid.shape))\n",
    "    \n",
    "    return X_train,X_valid,y_train,y_valid,X_test,X,y\n",
    "    \n",
    "    "
   ]
  },
  {
   "cell_type": "code",
   "execution_count": 7,
   "metadata": {},
   "outputs": [],
   "source": [
    "def resample_data(clf, x, y, cv, scoring, sampler):\n",
    "    '''\n",
    "        This function computes the cross-validation score of a given \n",
    "        classifier using a choice of sampling function to mitigate \n",
    "        the class imbalance, and stratified k-fold sampling.\n",
    "        \n",
    "        The first five arguments are the same as \n",
    "        sklearn.model_selection.cross_val_score.\n",
    "        \n",
    "        - clf.predict_proba(x) returns class label probabilities\n",
    "        - clf.fit(x,y) trains the model\n",
    "        \n",
    "        - x = data\n",
    "        \n",
    "        - y = labels\n",
    "        \n",
    "        - cv = the number of folds in the cross validation\n",
    "        \n",
    "        - scoring(classifier, x, y) returns a float\n",
    "        \n",
    "        The last argument is a choice of random sampler: an object \n",
    "        similar to the sampler objects available from the python \n",
    "        package imbalanced-learn. In particular, this \n",
    "        object needs to have the method:\n",
    "        \n",
    "        sampler.fit_sample(x,y)\n",
    "        \n",
    "    '''\n",
    "    \n",
    "    cv_score = 0.\n",
    "    train_score = 0.\n",
    "    test_score = 0.\n",
    "    \n",
    "    # stratified k-fold creates folds with the same ratio of positive \n",
    "    # and negative samples as the entire dataset.\n",
    "    \n",
    "    skf = StratifiedKFold(n_splits=cv, random_state=0, shuffle=False)\n",
    "    \n",
    "    for train_idx, test_idx in skf.split(x,y):\n",
    "        #print(train_idx,test_idx)\n",
    "        xfold_train_sampled, yfold_train_sampled = sampler.fit_sample(x.iloc[train_idx],y.iloc[train_idx])\n",
    "        clf.fit(xfold_train_sampled, yfold_train_sampled)\n",
    "        \n",
    "        train_score = scoring(clf, xfold_train_sampled, yfold_train_sampled)\n",
    "        test_score  = scoring(clf, x.iloc[test_idx], y.iloc[test_idx])\n",
    "        \n",
    "        print(\"Train AUPRC: %.2f Test AUPRC: %.2f\"%(train_score,test_score))\n",
    "\n",
    "        cv_score += test_score\n",
    "        \n",
    "    return cv_score/cv"
   ]
  },
  {
   "cell_type": "code",
   "execution_count": 8,
   "metadata": {},
   "outputs": [],
   "source": [
    "def pr_auc_score(clf, x, y):\n",
    "    '''\n",
    "        This function computes area under the precision-recall curve. \n",
    "    '''\n",
    "      \n",
    "    precisions, recalls,_ = precision_recall_curve(y, clf.predict_proba(x)[:,1], pos_label=1)\n",
    "    \n",
    "    return auc(recalls, precisions)"
   ]
  },
  {
   "cell_type": "markdown",
   "metadata": {},
   "source": [
    "#### Prepare Data"
   ]
  },
  {
   "cell_type": "code",
   "execution_count": 9,
   "metadata": {},
   "outputs": [
    {
     "name": "stdout",
     "output_type": "stream",
     "text": [
      "X_train: (38365, 63) X_valid: (16443, 63) y_train: (38365,) y_valid: (16443,)\n"
     ]
    }
   ],
   "source": [
    "num_features=['KPIs_met >80%', 'avg_training_score', 'awards_won?','length_of_service' ,'no_of_trainings']\n",
    "cat_features=['department', 'education', 'gender' ,'previous_year_rating','recruitment_channel', 'region','age']\n",
    "X_train,X_valid,y_train,y_valid,X_test,X,y=prepare_data(df_full,num_features,cat_features)"
   ]
  },
  {
   "cell_type": "markdown",
   "metadata": {},
   "source": [
    "## Model Building \n",
    "***"
   ]
  },
  {
   "cell_type": "markdown",
   "metadata": {},
   "source": [
    "##### Logistic Regression \n",
    "***\n",
    "Starting with a basic Logistic Regrssion , hoping two classes have clear decision boundry"
   ]
  },
  {
   "cell_type": "code",
   "execution_count": 10,
   "metadata": {},
   "outputs": [
    {
     "name": "stdout",
     "output_type": "stream",
     "text": [
      "____________________________________________________________________________________________________ \n",
      "\n",
      "The accuracy of the Logistic Regression is 0.9327373350361856\n",
      "____________________________________________________________________________________________________ \n",
      "\n",
      "The F1 score of the Logistic Regression is 0.39029768467475195\n",
      "____________________________________________________________________________________________________ \n",
      "\n",
      "              precision    recall  f1-score   support\n",
      "\n",
      "         0.0       0.94      1.00      0.96     15057\n",
      "         1.0       0.83      0.26      0.39      1386\n",
      "\n",
      "   micro avg       0.93      0.93      0.93     16443\n",
      "   macro avg       0.88      0.63      0.68     16443\n",
      "weighted avg       0.93      0.93      0.92     16443\n",
      "\n",
      "____________________________________________________________________________________________________\n"
     ]
    },
    {
     "data": {
      "image/png": "[encoded data removed]",
      "text/plain": [
       "<Figure size 432x288 with 2 Axes>"
      ]
     },
     "metadata": {
      "needs_background": "light"
     },
     "output_type": "display_data"
    }
   ],
   "source": [
    "model = LogisticRegression()\n",
    "model.fit(X_train,y_train)\n",
    "prediction1=model.predict(X_valid)\n",
    "print(\"__\"*50,\"\\n\")\n",
    "print('The accuracy of the Logistic Regression is',metrics.accuracy_score(y_valid,prediction1))\n",
    "print(\"__\"*50,\"\\n\")\n",
    "print('The F1 score of the Logistic Regression is',metrics.f1_score(y_valid,prediction1))\n",
    "print(\"__\"*50,\"\\n\")\n",
    "print(classification_report(y_valid,prediction1))\n",
    "print(\"__\"*50)\n",
    "sns.heatmap(confusion_matrix(y_valid,prediction1),annot=True,fmt=\"d\")\n",
    "plt.xlabel('Predicted')\n",
    "plt.ylabel('Actual')\n",
    "plt.title('Confusion Matrix')\n",
    "plt.show()"
   ]
  },
  {
   "cell_type": "code",
   "execution_count": 11,
   "metadata": {},
   "outputs": [
    {
     "name": "stdout",
     "output_type": "stream",
     "text": [
      "____________________________________________________________________________________________________ \n",
      "\n",
      "The accuracy of the Logistic Regression is 0.9157088122605364\n",
      "____________________________________________________________________________________________________ \n",
      "\n",
      "The F1 score of the Logistic Regression is 0.0\n",
      "____________________________________________________________________________________________________ \n",
      "\n",
      "              precision    recall  f1-score   support\n",
      "\n",
      "         0.0       0.92      1.00      0.96     15057\n",
      "         1.0       0.00      0.00      0.00      1386\n",
      "\n",
      "   micro avg       0.92      0.92      0.92     16443\n",
      "   macro avg       0.46      0.50      0.48     16443\n",
      "weighted avg       0.84      0.92      0.88     16443\n",
      "\n",
      "____________________________________________________________________________________________________\n"
     ]
    },
    {
     "data": {
      "image/png": "[encoded data removed]",
      "text/plain": [
       "<Figure size 432x288 with 2 Axes>"
      ]
     },
     "metadata": {
      "needs_background": "light"
     },
     "output_type": "display_data"
    }
   ],
   "source": [
    "model = LogisticRegression()\n",
    "model.fit(X_train[['avg_training_score']],y_train)\n",
    "prediction1=model.predict(X_valid[['avg_training_score']])\n",
    "print(\"__\"*50,\"\\n\")\n",
    "print('The accuracy of the Logistic Regression is',metrics.accuracy_score(y_valid,prediction1))\n",
    "print(\"__\"*50,\"\\n\")\n",
    "print('The F1 score of the Logistic Regression is',metrics.f1_score(y_valid,prediction1))\n",
    "print(\"__\"*50,\"\\n\")\n",
    "print(classification_report(y_valid,prediction1))\n",
    "print(\"__\"*50)\n",
    "sns.heatmap(confusion_matrix(y_valid,prediction1),annot=True,fmt=\"d\")\n",
    "plt.xlabel('Predicted')\n",
    "plt.ylabel('Actual')\n",
    "plt.title('Confusion Matrix')\n",
    "plt.show()"
   ]
  },
  {
   "cell_type": "markdown",
   "metadata": {},
   "source": [
    "##### Observations\n",
    "***\n",
    "-  Still pretty high accuarcy with just 1 feature ('avg_training_score')\n",
    "-  Precision =0 , Recall =0 for class 1\n",
    "-  Issue because of class Imbalance\n",
    "***"
   ]
  },
  {
   "cell_type": "markdown",
   "metadata": {},
   "source": [
    "### Address Class Imbalance\n",
    "***\n",
    "Broadly there are 2 techniques to handle class Imbalance\n",
    "\n",
    "**Resampling**\n",
    "***\n",
    "-  UnderSampling\n",
    "-  OverSampling \n",
    "-  SMOTE\n",
    "\n",
    "<br>**Algorithmic Ensemble Techniques**\n",
    "***\n",
    "-  Bagging\n",
    "-  Boosting\n",
    "-  class_weights='balanced'\n",
    "\n",
    "We will be evealuating model based on precison , recall & AUCPR(Area under Precision Recall Curve)"
   ]
  },
  {
   "cell_type": "markdown",
   "metadata": {},
   "source": [
    "### Resampling"
   ]
  },
  {
   "cell_type": "code",
   "execution_count": 12,
   "metadata": {},
   "outputs": [],
   "source": [
    "cv = 10\n",
    "\n",
    "lgr_clf    = LogisticRegression()\n",
    "rf_clf = RandomForestClassifier()\n",
    "ada_clf      = AdaBoostClassifier()"
   ]
  },
  {
   "cell_type": "code",
   "execution_count": 13,
   "metadata": {},
   "outputs": [
    {
     "name": "stdout",
     "output_type": "stream",
     "text": [
      "Random over-sampling\n",
      "Train AUPRC: 0.87 Test AUPRC: 0.47\n",
      "Train AUPRC: 0.87 Test AUPRC: 0.50\n",
      "Train AUPRC: 0.87 Test AUPRC: 0.45\n",
      "Train AUPRC: 0.87 Test AUPRC: 0.49\n",
      "Train AUPRC: 0.87 Test AUPRC: 0.45\n",
      "Train AUPRC: 0.87 Test AUPRC: 0.47\n",
      "Train AUPRC: 0.87 Test AUPRC: 0.48\n",
      "Train AUPRC: 0.87 Test AUPRC: 0.49\n",
      "Train AUPRC: 0.87 Test AUPRC: 0.49\n",
      "Train AUPRC: 0.87 Test AUPRC: 0.45\n",
      "Cross-validated AUPRC score: 0.48\n",
      "SMOTE over-sampling\n",
      "Train AUPRC: 0.88 Test AUPRC: 0.48\n",
      "Train AUPRC: 0.88 Test AUPRC: 0.52\n",
      "Train AUPRC: 0.88 Test AUPRC: 0.46\n",
      "Train AUPRC: 0.88 Test AUPRC: 0.50\n",
      "Train AUPRC: 0.88 Test AUPRC: 0.46\n",
      "Train AUPRC: 0.88 Test AUPRC: 0.48\n",
      "Train AUPRC: 0.88 Test AUPRC: 0.49\n",
      "Train AUPRC: 0.88 Test AUPRC: 0.51\n",
      "Train AUPRC: 0.88 Test AUPRC: 0.50\n",
      "Train AUPRC: 0.88 Test AUPRC: 0.46\n",
      "Cross-validated AUPRC score: 0.48\n",
      "ADASYN over-sampling\n",
      "Train AUPRC: 0.87 Test AUPRC: 0.47\n",
      "Train AUPRC: 0.86 Test AUPRC: 0.52\n",
      "Train AUPRC: 0.86 Test AUPRC: 0.45\n",
      "Train AUPRC: 0.86 Test AUPRC: 0.50\n",
      "Train AUPRC: 0.87 Test AUPRC: 0.46\n",
      "Train AUPRC: 0.86 Test AUPRC: 0.48\n",
      "Train AUPRC: 0.87 Test AUPRC: 0.49\n",
      "Train AUPRC: 0.86 Test AUPRC: 0.50\n",
      "Train AUPRC: 0.86 Test AUPRC: 0.49\n",
      "Train AUPRC: 0.86 Test AUPRC: 0.45\n",
      "Cross-validated AUPRC score: 0.48\n",
      "Random under-sampling\n",
      "Train AUPRC: 0.87 Test AUPRC: 0.46\n",
      "Train AUPRC: 0.87 Test AUPRC: 0.49\n",
      "Train AUPRC: 0.87 Test AUPRC: 0.44\n",
      "Train AUPRC: 0.87 Test AUPRC: 0.48\n",
      "Train AUPRC: 0.88 Test AUPRC: 0.44\n",
      "Train AUPRC: 0.86 Test AUPRC: 0.47\n",
      "Train AUPRC: 0.86 Test AUPRC: 0.48\n",
      "Train AUPRC: 0.87 Test AUPRC: 0.48\n",
      "Train AUPRC: 0.87 Test AUPRC: 0.49\n",
      "Train AUPRC: 0.87 Test AUPRC: 0.44\n",
      "Cross-validated AUPRC score: 0.47\n"
     ]
    }
   ],
   "source": [
    "# Logistic regression score with Random Over-sampling\n",
    "print(\"Random over-sampling\")\n",
    "score = resample_data(lgr_clf, X, y, cv, pr_auc_score, RandomOverSampler())\n",
    "print(\"Cross-validated AUPRC score: %.2f\"%score)\n",
    "\n",
    "# Logistic regression score with SMOTE\n",
    "print(\"SMOTE over-sampling\")\n",
    "score = resample_data(lgr_clf, X, y, cv, pr_auc_score, SMOTE())\n",
    "print(\"Cross-validated AUPRC score: %.2f\"%score)\n",
    "\n",
    "# Logistic regression score with a\n",
    "print(\"ADASYN over-sampling\")\n",
    "score = resample_data(lgr_clf, X, y, cv, pr_auc_score, ADASYN())\n",
    "print(\"Cross-validated AUPRC score: %.2f\"%score)\n",
    "\n",
    "# Logistic regression score with Random Under Sampling\n",
    "print(\"Random under-sampling\")\n",
    "score = resample_data(lgr_clf, X, y, cv, pr_auc_score, RandomUnderSampler())\n",
    "print(\"Cross-validated AUPRC score: %.2f\"%score)"
   ]
  },
  {
   "cell_type": "markdown",
   "metadata": {},
   "source": [
    "## Feature Engineering "
   ]
  },
  {
   "cell_type": "code",
   "execution_count": 9,
   "metadata": {},
   "outputs": [],
   "source": [
    "df_copy=df_full"
   ]
  },
  {
   "cell_type": "code",
   "execution_count": 10,
   "metadata": {},
   "outputs": [],
   "source": [
    "df_copy['diff_from_avg_training_score_dept_mean'] = df_copy['avg_training_score'] - df_copy.groupby('department')['avg_training_score'].transform('mean')\n",
    "df_copy['diff_from_avg_training_score_region_mean'] = df_copy['avg_training_score'] - df_copy.groupby('region')['avg_training_score'].transform('mean')\n",
    "df_copy['age_by_position'] = pd.cut(x=df_copy['age'], bins=[0,25, 35, 40, 45,55,100], labels=['Very Young', 'Mid level', 'senior','lead','director','board'])"
   ]
  },
  {
   "cell_type": "code",
   "execution_count": 11,
   "metadata": {},
   "outputs": [],
   "source": [
    "df_copy['age_by_position'] = pd.cut(x=df_copy['age'], bins=[0,25, 35, 40, 45,55,100], labels=['Very Young', 'Mid level', 'senior','lead','director','board'])"
   ]
  },
  {
   "cell_type": "markdown",
   "metadata": {},
   "source": [
    "#### Prepare Data"
   ]
  },
  {
   "cell_type": "code",
   "execution_count": 12,
   "metadata": {},
   "outputs": [
    {
     "name": "stdout",
     "output_type": "stream",
     "text": [
      "X_train: (38365, 70) X_valid: (16443, 70) y_train: (38365,) y_valid: (16443,)\n"
     ]
    }
   ],
   "source": [
    "num_features=['KPIs_met >80%', 'avg_training_score', 'awards_won?','length_of_service' ,'no_of_trainings', 'diff_from_avg_training_score_dept_mean','diff_from_avg_training_score_region_mean']\n",
    "cat_features=['department', 'education', 'gender' ,'previous_year_rating','recruitment_channel', 'region','age_by_position']\n",
    "X_train,X_valid,y_train,y_valid,X_test,X,y=prepare_data(df_copy,num_features,cat_features)"
   ]
  },
  {
   "cell_type": "code",
   "execution_count": 18,
   "metadata": {},
   "outputs": [
    {
     "name": "stdout",
     "output_type": "stream",
     "text": [
      "____________________________________________________________________________________________________ \n",
      "\n",
      "The accuracy of the Logistic Regression is 0.9328589673417259\n",
      "____________________________________________________________________________________________________ \n",
      "\n",
      "The F1 score of the Logistic Regression is 0.39999999999999997\n",
      "____________________________________________________________________________________________________ \n",
      "\n",
      "              precision    recall  f1-score   support\n",
      "\n",
      "         0.0       0.94      0.99      0.96     15057\n",
      "         1.0       0.81      0.27      0.40      1386\n",
      "\n",
      "   micro avg       0.93      0.93      0.93     16443\n",
      "   macro avg       0.87      0.63      0.68     16443\n",
      "weighted avg       0.93      0.93      0.92     16443\n",
      "\n",
      "____________________________________________________________________________________________________\n"
     ]
    },
    {
     "data": {
      "image/png": "[encoded data removed]",
      "text/plain": [
       "<Figure size 432x288 with 2 Axes>"
      ]
     },
     "metadata": {
      "needs_background": "light"
     },
     "output_type": "display_data"
    }
   ],
   "source": [
    "model = LogisticRegression()\n",
    "model.fit(X_train,y_train)\n",
    "prediction1=model.predict(X_valid)\n",
    "print(\"__\"*50,\"\\n\")\n",
    "print('The accuracy of the Logistic Regression is',metrics.accuracy_score(y_valid,prediction1))\n",
    "print(\"__\"*50,\"\\n\")\n",
    "print('The F1 score of the Logistic Regression is',metrics.f1_score(y_valid,prediction1))\n",
    "print(\"__\"*50,\"\\n\")\n",
    "print(classification_report(y_valid,prediction1))\n",
    "print(\"__\"*50)\n",
    "sns.heatmap(confusion_matrix(y_valid,prediction1),annot=True,fmt=\"d\")\n",
    "plt.xlabel('Predicted')\n",
    "plt.ylabel('Actual')\n",
    "plt.title('Confusion Matrix')\n",
    "plt.show()"
   ]
  },
  {
   "cell_type": "code",
   "execution_count": 13,
   "metadata": {},
   "outputs": [],
   "source": [
    "def resample_data_v3(clf, x, y, cv, scoring, sampler):\n",
    "    '''\n",
    "        This function computes the cross-validation score of a given \n",
    "        classifier using a choice of sampling function to mitigate \n",
    "        the class imbalance, and stratified k-fold sampling.\n",
    "        \n",
    "        The first five arguments are the same as \n",
    "        sklearn.model_selection.cross_val_score.\n",
    "        \n",
    "        - clf.predict_proba(x) returns class label probabilities\n",
    "        - clf.fit(x,y) trains the model\n",
    "        \n",
    "        - x = data\n",
    "        \n",
    "        - y = labels\n",
    "        \n",
    "        - cv = the number of folds in the cross validation\n",
    "        \n",
    "        - scoring(classifier, x, y) returns a float\n",
    "        \n",
    "        The last argument is a choice of random sampler: an object \n",
    "        similar to the sampler objects available from the python \n",
    "        package imbalanced-learn. In particular, this \n",
    "        object needs to have the method:\n",
    "        \n",
    "        sampler.fit_sample(x,y)\n",
    "        \n",
    "    '''\n",
    "    \n",
    "    cv_score = 0.\n",
    "    train_score = 0.\n",
    "    test_score = 0.\n",
    "    \n",
    "    # stratified k-fold creates folds with the same ratio of positive \n",
    "    # and negative samples as the entire dataset.\n",
    "    \n",
    "    skf = StratifiedKFold(n_splits=cv, random_state=0, shuffle=False)\n",
    "    \n",
    "    for train_idx, test_idx in skf.split(x,y):\n",
    "        #print(train_idx,test_idx)\n",
    "        xfold_train_sampled, yfold_train_sampled = sampler.fit_sample(x.iloc[train_idx],y.iloc[train_idx])\n",
    "        clf.fit(xfold_train_sampled, yfold_train_sampled)\n",
    "        \n",
    "        prediction1=clf.predict(x.iloc[test_idx])\n",
    "        \n",
    "        cv_score += metrics.f1_score(y.iloc[test_idx],prediction1)\n",
    "        \n",
    "    return cv_score/cv,clf\n",
    "        "
   ]
  },
  {
   "cell_type": "markdown",
   "metadata": {},
   "source": [
    "##### LR"
   ]
  },
  {
   "cell_type": "code",
   "execution_count": 20,
   "metadata": {},
   "outputs": [
    {
     "name": "stdout",
     "output_type": "stream",
     "text": [
      "Random over-sampling\n",
      "Cross-validated F1 score: 0.38\n",
      "SMOTE over-sampling\n",
      "Cross-validated F1 score: 0.38\n",
      "ADASYN over-sampling\n",
      "Cross-validated F1 score: 0.37\n",
      "Random under-sampling\n",
      "Cross-validated F1 score: 0.38\n"
     ]
    }
   ],
   "source": [
    "# Logistic regression score with Random Over-sampling\n",
    "print(\"Random over-sampling\")\n",
    "score,clf = resample_data_v3(lgr_clf, X, y, cv, pr_auc_score, RandomOverSampler())\n",
    "print(\"Cross-validated F1 score: %.2f\"%score)\n",
    "\n",
    "# Logistic regression score with SMOTE\n",
    "print(\"SMOTE over-sampling\")\n",
    "score,clf = resample_data_v3(lgr_clf, X, y, cv, pr_auc_score, SMOTE())\n",
    "print(\"Cross-validated F1 score: %.2f\"%score)\n",
    "\n",
    "# Logistic regression score with a\n",
    "print(\"ADASYN over-sampling\")\n",
    "score,clf = resample_data_v3(lgr_clf, X, y, cv, pr_auc_score, ADASYN())\n",
    "print(\"Cross-validated F1 score: %.2f\"%score)\n",
    "\n",
    "# Logistic regression score with Random Under Sampling\n",
    "print(\"Random under-sampling\")\n",
    "score,clf = resample_data_v3(lgr_clf, X, y, cv, pr_auc_score, RandomUnderSampler())\n",
    "print(\"Cross-validated F1 score: %.2f\"%score)"
   ]
  },
  {
   "cell_type": "markdown",
   "metadata": {},
   "source": [
    "##### Observations:\n",
    "***\n",
    "-  SMOTE over-sampling have hightest score of Cross-validated AUPRC score: 0.38\n",
    "-  Random under-sampling have the lowest value of 0.38 , which seems inplausible due to loss of information\n",
    "***"
   ]
  },
  {
   "cell_type": "markdown",
   "metadata": {},
   "source": [
    "### Test Data"
   ]
  },
  {
   "cell_type": "code",
   "execution_count": 41,
   "metadata": {},
   "outputs": [],
   "source": [
    "X_test['is_promoted']=clf.predict(X_test)\n",
    "submission=pd.read_csv(\"sample_submission.csv\")\n",
    "submission['is_promoted']=X_test['is_promoted']\n",
    "submission['is_promoted']=submission['is_promoted'].astype(int)\n",
    "submission[['employee_id','is_promoted']].to_csv(\"XGBoost_Submission4.csv\",index=False)"
   ]
  },
  {
   "cell_type": "code",
   "execution_count": 80,
   "metadata": {},
   "outputs": [],
   "source": [
    "***********"
   ]
  },
  {
   "cell_type": "code",
   "execution_count": 21,
   "metadata": {},
   "outputs": [
    {
     "data": {
      "image/png": "[encoded data removed]",
      "text/plain": [
       "<Figure size 432x288 with 1 Axes>"
      ]
     },
     "metadata": {
      "needs_background": "light"
     },
     "output_type": "display_data"
    }
   ],
   "source": [
    "sampler = SMOTE()\n",
    "skf = StratifiedKFold(n_splits=cv, random_state=0, shuffle=False)\n",
    "clf = lgr_clf\n",
    "\n",
    "train_idx, test_idx = skf.split(X,y).__next__()\n",
    "#print(train_idx)\n",
    "xfold_train_sampled, yfold_train_sampled = sampler.fit_sample(X.iloc[train_idx],y.iloc[train_idx])\n",
    "\n",
    "clf.fit(xfold_train_sampled, yfold_train_sampled)\n",
    "\n",
    "precisions, recalls,_ = precision_recall_curve(y.iloc[test_idx], clf.predict_proba(X.iloc[test_idx])[:,1], pos_label=1)\n",
    "\n",
    "plt.step(recalls, precisions, color='b', alpha=0.2,\n",
    "         where='post')\n",
    "plt.fill_between(recalls, precisions, step='post', alpha=0.2,\n",
    "                 color='b')\n",
    "\n",
    "plt.xlabel('Recall')\n",
    "plt.ylabel('Precision')\n",
    "plt.ylim([0.0, 1.05])\n",
    "plt.xlim([0.0, 1.0])\n",
    "plt.title('Precision-Recall curve for Logistic Regression')\n",
    "plt.show()"
   ]
  },
  {
   "cell_type": "markdown",
   "metadata": {},
   "source": [
    "##### RF"
   ]
  },
  {
   "cell_type": "code",
   "execution_count": 25,
   "metadata": {},
   "outputs": [
    {
     "name": "stdout",
     "output_type": "stream",
     "text": [
      "Random over-sampling\n",
      "Cross-validated F1 score: 0.49\n",
      "SMOTE over-sampling\n",
      "Cross-validated F1 score: 0.49\n",
      "ADASYN over-sampling\n",
      "Cross-validated F1 score: 0.48\n",
      "Random under-sampling\n",
      "Cross-validated F1 score: 0.39\n"
     ]
    }
   ],
   "source": [
    "# Random Forest regression score with Random Over-sampling\n",
    "print(\"Random over-sampling\")\n",
    "score,clf_ros = resample_data_v3(rf_clf, X, y, cv, pr_auc_score, RandomOverSampler())\n",
    "print(\"Cross-validated F1 score: %.2f\"%score)\n",
    "\n",
    "# Random Forest regression score with SMOTE\n",
    "print(\"SMOTE over-sampling\")\n",
    "score,clf_smote = resample_data_v3(rf_clf, X, y, cv, pr_auc_score, SMOTE())\n",
    "print(\"Cross-validated F1 score: %.2f\"%score)\n",
    "\n",
    "# Random Forest regression score with ADASYN\n",
    "print(\"ADASYN over-sampling\")\n",
    "score,clf_adasyn = resample_data_v3(rf_clf, X, y, cv, pr_auc_score, ADASYN())\n",
    "print(\"Cross-validated F1 score: %.2f\"%score)\n",
    "\n",
    "# Random Forest regression score with Random Under Sampling\n",
    "print(\"Random under-sampling\")\n",
    "score,clf_rus = resample_data_v3(rf_clf, X, y, cv, pr_auc_score, RandomUnderSampler())\n",
    "print(\"Cross-validated F1 score: %.2f\"%score)"
   ]
  },
  {
   "cell_type": "markdown",
   "metadata": {},
   "source": [
    "##### Observations:\n",
    "***\n",
    "-  Rest samplings have high F1 score than random under-sampling\n",
    "-  Random Forest models seems to be doing better than Logistic Regression wrt F1 score\n",
    "***"
   ]
  },
  {
   "cell_type": "code",
   "execution_count": 26,
   "metadata": {},
   "outputs": [
    {
     "data": {
      "image/png": "[encoded data removed]",
      "text/plain": [
       "<Figure size 432x288 with 1 Axes>"
      ]
     },
     "metadata": {
      "needs_background": "light"
     },
     "output_type": "display_data"
    }
   ],
   "source": [
    "sampler = SMOTE()\n",
    "skf = StratifiedKFold(n_splits=cv, random_state=0, shuffle=False)\n",
    "clf = rf_clf\n",
    "\n",
    "train_idx, test_idx = skf.split(X,y).__next__()\n",
    "#print(train_idx)\n",
    "xfold_train_sampled, yfold_train_sampled = sampler.fit_sample(X.iloc[train_idx],y.iloc[train_idx])\n",
    "\n",
    "clf.fit(xfold_train_sampled, yfold_train_sampled)\n",
    "\n",
    "precisions, recalls,_ = precision_recall_curve(y.iloc[test_idx], clf.predict_proba(X.iloc[test_idx])[:,1], pos_label=1)\n",
    "\n",
    "plt.step(recalls, precisions, color='b', alpha=0.2,\n",
    "         where='post')\n",
    "plt.fill_between(recalls, precisions, step='post', alpha=0.2,\n",
    "                 color='b')\n",
    "\n",
    "plt.xlabel('Recall')\n",
    "plt.ylabel('Precision')\n",
    "plt.ylim([0.0, 1.05])\n",
    "plt.xlim([0.0, 1.0])\n",
    "plt.title('Precision-Recall curve for Random Forest')\n",
    "plt.show()"
   ]
  },
  {
   "cell_type": "markdown",
   "metadata": {},
   "source": [
    "##### Adaboost"
   ]
  },
  {
   "cell_type": "code",
   "execution_count": 27,
   "metadata": {},
   "outputs": [
    {
     "name": "stdout",
     "output_type": "stream",
     "text": [
      "Random over-sampling\n",
      "Cross-validated F1 score: 0.38\n",
      "SMOTE over-sampling\n",
      "Cross-validated F1 score: 0.41\n",
      "ADASYN over-sampling\n",
      "Cross-validated F1 score: 0.39\n",
      "Random under-sampling\n",
      "Cross-validated F1 score: 0.38\n"
     ]
    }
   ],
   "source": [
    "# Random Forest regression score with Random Over-sampling\n",
    "print(\"Random over-sampling\")\n",
    "score,clf_ros = resample_data_v3(ada_clf, X, y, cv, pr_auc_score, RandomOverSampler())\n",
    "print(\"Cross-validated F1 score: %.2f\"%score)\n",
    "\n",
    "# Random Forest regression score with SMOTE\n",
    "print(\"SMOTE over-sampling\")\n",
    "score,clf_smote = resample_data_v3(ada_clf, X, y, cv, pr_auc_score, SMOTE())\n",
    "print(\"Cross-validated F1 score: %.2f\"%score)\n",
    "\n",
    "# Random Forest regression score with ADASYN\n",
    "print(\"ADASYN over-sampling\")\n",
    "score,clf_adasyn = resample_data_v3(ada_clf, X, y, cv, pr_auc_score, ADASYN())\n",
    "print(\"Cross-validated F1 score: %.2f\"%score)\n",
    "\n",
    "# Random Forest regression score with Random Under Sampling\n",
    "print(\"Random under-sampling\")\n",
    "score,clf_rus = resample_data_v3(ada_clf, X, y, cv, pr_auc_score, RandomUnderSampler())\n",
    "print(\"Cross-validated F1 score: %.2f\"%score)"
   ]
  },
  {
   "cell_type": "code",
   "execution_count": 28,
   "metadata": {},
   "outputs": [
    {
     "data": {
      "image/png": "[encoded data removed]",
      "text/plain": [
       "<Figure size 432x288 with 1 Axes>"
      ]
     },
     "metadata": {
      "needs_background": "light"
     },
     "output_type": "display_data"
    }
   ],
   "source": [
    "sampler = SMOTE()\n",
    "skf = StratifiedKFold(n_splits=cv, random_state=0, shuffle=False)\n",
    "clf = ada_clf\n",
    "\n",
    "train_idx, test_idx = skf.split(X,y).__next__()\n",
    "#print(train_idx)\n",
    "xfold_train_sampled, yfold_train_sampled = sampler.fit_sample(X.iloc[train_idx],y.iloc[train_idx])\n",
    "\n",
    "clf.fit(xfold_train_sampled, yfold_train_sampled)\n",
    "\n",
    "precisions, recalls,_ = precision_recall_curve(y.iloc[test_idx], clf.predict_proba(X.iloc[test_idx])[:,1], pos_label=1)\n",
    "\n",
    "plt.step(recalls, precisions, color='b', alpha=0.2,\n",
    "         where='post')\n",
    "plt.fill_between(recalls, precisions, step='post', alpha=0.2,\n",
    "                 color='b')\n",
    "\n",
    "plt.xlabel('Recall')\n",
    "plt.ylabel('Precision')\n",
    "plt.ylim([0.0, 1.05])\n",
    "plt.xlim([0.0, 1.0])\n",
    "plt.title('Precision-Recall curve for Adaboost')\n",
    "plt.show()"
   ]
  },
  {
   "cell_type": "markdown",
   "metadata": {},
   "source": [
    "##### Observations\n",
    "\n",
    "- Adaboost AUPRC looks better than Logistic Regression but Random Forest are the best."
   ]
  },
  {
   "cell_type": "markdown",
   "metadata": {},
   "source": [
    "## Algorithmic Approach"
   ]
  },
  {
   "cell_type": "markdown",
   "metadata": {},
   "source": [
    "#####  Logistic Regrssion using Weights"
   ]
  },
  {
   "cell_type": "code",
   "execution_count": 35,
   "metadata": {},
   "outputs": [
    {
     "name": "stdout",
     "output_type": "stream",
     "text": [
      "____________________________________________________________________________________________________ \n",
      "\n",
      "The accuracy of the Logistic Regression is 0.7765614547223743\n",
      "____________________________________________________________________________________________________ \n",
      "\n",
      "The F1 score of the Logistic Regression is 0.3833501174890903\n",
      "____________________________________________________________________________________________________ \n",
      "\n",
      "              precision    recall  f1-score   support\n",
      "\n",
      "         0.0       0.98      0.77      0.86     15057\n",
      "         1.0       0.25      0.82      0.38      1386\n",
      "\n",
      "   micro avg       0.78      0.78      0.78     16443\n",
      "   macro avg       0.61      0.80      0.62     16443\n",
      "weighted avg       0.92      0.78      0.82     16443\n",
      "\n",
      "____________________________________________________________________________________________________\n"
     ]
    },
    {
     "data": {
      "image/png": "[encoded data removed]",
      "text/plain": [
       "<Figure size 432x288 with 2 Axes>"
      ]
     },
     "metadata": {
      "needs_background": "light"
     },
     "output_type": "display_data"
    }
   ],
   "source": [
    "model = LogisticRegression(class_weight='balanced')\n",
    "model.fit(X_train,y_train)\n",
    "prediction3=model.predict(X_valid)\n",
    "print(\"__\"*50,\"\\n\")\n",
    "print('The accuracy of the Logistic Regression is',metrics.accuracy_score(prediction3,y_valid))\n",
    "print(\"__\"*50,\"\\n\")\n",
    "print('The F1 score of the Logistic Regression is',metrics.f1_score(prediction3,y_valid))\n",
    "print(\"__\"*50,\"\\n\")\n",
    "print(classification_report(y_valid,prediction3))\n",
    "print(\"__\"*50)\n",
    "sns.heatmap(confusion_matrix(y_valid,prediction3),annot=True,fmt=\"d\")\n",
    "plt.xlabel('Predicted')\n",
    "plt.ylabel('Actual')\n",
    "plt.title('Confusion Matrix')\n",
    "plt.show()"
   ]
  },
  {
   "cell_type": "markdown",
   "metadata": {},
   "source": [
    "##### Observations\n",
    "***\n",
    "-  Precision is low for 1 class in validation set\n",
    "***"
   ]
  },
  {
   "cell_type": "code",
   "execution_count": 36,
   "metadata": {},
   "outputs": [
    {
     "name": "stdout",
     "output_type": "stream",
     "text": [
      "____________________________________________________________________________________________________ \n",
      "\n",
      "The accuracy of the Logistic Regression is 0.721097123395974\n",
      "____________________________________________________________________________________________________ \n",
      "\n",
      "The F1 score of the Logistic Regression is 0.3549929676511955\n",
      "____________________________________________________________________________________________________ \n",
      "\n",
      "              precision    recall  f1-score   support\n",
      "\n",
      "         0.0       0.99      0.70      0.82     15057\n",
      "         1.0       0.22      0.91      0.35      1386\n",
      "\n",
      "   micro avg       0.72      0.72      0.72     16443\n",
      "   macro avg       0.60      0.81      0.59     16443\n",
      "weighted avg       0.92      0.72      0.78     16443\n",
      "\n",
      "____________________________________________________________________________________________________\n"
     ]
    },
    {
     "data": {
      "image/png": "[encoded data removed]",
      "text/plain": [
       "<Figure size 432x288 with 2 Axes>"
      ]
     },
     "metadata": {
      "needs_background": "light"
     },
     "output_type": "display_data"
    }
   ],
   "source": [
    "model = LogisticRegression(class_weight={1:0.95,0:0.05})\n",
    "model.fit(X_train,y_train)\n",
    "prediction3=model.predict(X_valid)\n",
    "print(\"__\"*50,\"\\n\")\n",
    "print('The accuracy of the Logistic Regression is',metrics.accuracy_score(prediction3,y_valid))\n",
    "print(\"__\"*50,\"\\n\")\n",
    "print('The F1 score of the Logistic Regression is',metrics.f1_score(prediction3,y_valid))\n",
    "print(\"__\"*50,\"\\n\")\n",
    "print(classification_report(y_valid,prediction3))\n",
    "print(\"__\"*50)\n",
    "sns.heatmap(confusion_matrix(y_valid,prediction3),annot=True,fmt=\"d\")\n",
    "plt.xlabel('Predicted')\n",
    "plt.ylabel('Actual')\n",
    "plt.title('Confusion Matrix')\n",
    "plt.show()"
   ]
  },
  {
   "cell_type": "markdown",
   "metadata": {},
   "source": [
    "##### Observations\n",
    "***\n",
    "-  For misclassifying 1 class ,loss function will be penalised by 0.95 whereas for misclassifying 0 \n",
    "   class loss function with be penalised by 0.05\n",
    "-  Precision is high for 1 class in validation set\n",
    "-  Recall is high for 0 class in valiadtion set\n",
    "-  Running GridSearchCV to find optiml weight for both classes\n",
    "***"
   ]
  },
  {
   "cell_type": "code",
   "execution_count": 38,
   "metadata": {},
   "outputs": [
    {
     "name": "stdout",
     "output_type": "stream",
     "text": [
      "Best parameters : {'class_weight': {0: 0.28684210526315784, 1: 0.7131578947368422}}\n"
     ]
    },
    {
     "data": {
      "image/png": "[encoded data removed]",
      "text/plain": [
       "<Figure size 432x288 with 1 Axes>"
      ]
     },
     "metadata": {
      "needs_background": "light"
     },
     "output_type": "display_data"
    }
   ],
   "source": [
    "from sklearn.model_selection import GridSearchCV\n",
    "from sklearn.metrics import  make_scorer\n",
    "pr_auc_scorer = make_scorer(pr_auc_score, greater_is_better=True,\n",
    "                           needs_proba=True)\n",
    "\n",
    "weights = np.linspace(0.05, 0.95, 20)\n",
    "\n",
    "gsc = GridSearchCV(\n",
    "    estimator=LogisticRegression(),\n",
    "    param_grid={\n",
    "        'class_weight': [{0: x, 1: 1.0-x} for x in weights]\n",
    "    },\n",
    "    scoring='f1',\n",
    "    cv=10\n",
    ")\n",
    "grid_result = gsc.fit(X, y)\n",
    "\n",
    "print(\"Best parameters : %s\" % grid_result.best_params_)\n",
    "\n",
    "# Plot the weights vs f1 score\n",
    "dataz = pd.DataFrame({ 'score': grid_result.cv_results_['mean_test_score'],\n",
    "                       'weight': weights })\n",
    "dataz.plot(x='weight')\n",
    "plt.show()"
   ]
  },
  {
   "cell_type": "code",
   "execution_count": 40,
   "metadata": {},
   "outputs": [
    {
     "name": "stdout",
     "output_type": "stream",
     "text": [
      "____________________________________________________________________________________________________ \n",
      "\n",
      "The accuracy of the Logistic Regression is 0.9129720853858785\n",
      "____________________________________________________________________________________________________ \n",
      "\n",
      "The F1 score of the Logistic Regression is 0.44642166344294004\n",
      "____________________________________________________________________________________________________ \n",
      "\n",
      "              precision    recall  f1-score   support\n",
      "\n",
      "         0.0       0.95      0.96      0.95     15057\n",
      "         1.0       0.48      0.42      0.45      1386\n",
      "\n",
      "   micro avg       0.91      0.91      0.91     16443\n",
      "   macro avg       0.71      0.69      0.70     16443\n",
      "weighted avg       0.91      0.91      0.91     16443\n",
      "\n",
      "____________________________________________________________________________________________________\n"
     ]
    },
    {
     "data": {
      "image/png": "[encoded data removed]",
      "text/plain": [
       "<Figure size 432x288 with 2 Axes>"
      ]
     },
     "metadata": {
      "needs_background": "light"
     },
     "output_type": "display_data"
    }
   ],
   "source": [
    "model = LogisticRegression(**grid_result.best_params_)\n",
    "model.fit(X_train,y_train)\n",
    "prediction3=model.predict(X_valid)\n",
    "print(\"__\"*50,\"\\n\")\n",
    "print('The accuracy of the Logistic Regression is',metrics.accuracy_score(prediction3,y_valid))\n",
    "print(\"__\"*50,\"\\n\")\n",
    "print('The F1 score of the Logistic Regression is',metrics.f1_score(prediction3,y_valid))\n",
    "print(\"__\"*50,\"\\n\")\n",
    "print(classification_report(y_valid,prediction3))\n",
    "print(\"__\"*50)\n",
    "sns.heatmap(confusion_matrix(y_valid,prediction3),annot=True,fmt=\"d\")\n",
    "plt.xlabel('Predicted')\n",
    "plt.ylabel('Actual')\n",
    "plt.title('Confusion Matrix')\n",
    "plt.show()"
   ]
  },
  {
   "cell_type": "markdown",
   "metadata": {},
   "source": [
    "##### Observations\n",
    "***\n",
    "-  As expected Recall improved but Precision degraded , The idea with class weigths is if we assign weight like {0:0.95,1:0.05} , it would mean to misclassify 0 it would be penalized heavily therefore we see high recall and low precsion\n",
    "***"
   ]
  },
  {
   "cell_type": "code",
   "execution_count": 41,
   "metadata": {},
   "outputs": [
    {
     "data": {
      "image/png": "[encoded data removed]",
      "text/plain": [
       "<Figure size 1080x576 with 2 Axes>"
      ]
     },
     "metadata": {
      "needs_background": "light"
     },
     "output_type": "display_data"
    }
   ],
   "source": [
    "fig = plt.figure(figsize=(15,8))\n",
    "ax1 = fig.add_subplot(1,2,1)\n",
    "ax1.set_xlim([-0.05,1.05])\n",
    "ax1.set_ylim([-0.05,1.05])\n",
    "ax1.set_xlabel('Recall')\n",
    "ax1.set_ylabel('Precision')\n",
    "ax1.set_title('PR Curve')\n",
    "\n",
    "ax2 = fig.add_subplot(1,2,2)\n",
    "ax2.set_xlim([-0.05,1.05])\n",
    "ax2.set_ylim([-0.05,1.05])\n",
    "ax2.set_xlabel('False Positive Rate')\n",
    "ax2.set_ylabel('True Positive Rate')\n",
    "ax2.set_title('ROC Curve')\n",
    "\n",
    "for w,k in zip([1,5,10,20,50,100,10000],'bgrcmykw'):\n",
    "    lr_model = LogisticRegression(class_weight={0:1,1:w})\n",
    "    lr_model.fit(X_train,y_train)\n",
    "    pred_prob = lr_model.predict_proba(X_valid)[:,1]\n",
    "\n",
    "    p,r,_ = precision_recall_curve(y_valid,pred_prob)\n",
    "    tpr,fpr,_ = roc_curve(y_valid,pred_prob)\n",
    "    \n",
    "    ax1.plot(r,p,c=k,label=w)\n",
    "    ax2.plot(tpr,fpr,c=k,label=w)\n",
    "ax1.legend(loc='lower left')    \n",
    "ax2.legend(loc='lower left')\n",
    "\n",
    "plt.show()"
   ]
  },
  {
   "cell_type": "markdown",
   "metadata": {},
   "source": [
    "***\n",
    "-  Never test on the oversampled or undersampled dataset.\n",
    "-  If we want to implement cross validation, remember to oversample or undersample your training data during cross-validation, not before!\n",
    "-  Don't use accuracy score as a metric with imbalanced datasets (will be usually high and misleading), instead use f1-score, precision/recall score or confusion matrix\n",
    "***"
   ]
  },
  {
   "cell_type": "markdown",
   "metadata": {},
   "source": [
    "## Logistic Regression \n",
    "***\n",
    "Running GridSearchCV to find optimal value of C for logisticRegression while applying different Over/Under sampling techniques\n",
    "***"
   ]
  },
  {
   "cell_type": "code",
   "execution_count": 42,
   "metadata": {},
   "outputs": [],
   "source": [
    "def benchmark(sampling_type,X,y):\n",
    "    lr = LogisticRegression(penalty = 'l1')\n",
    "    param_grid = {'C':[0.01,0.1,1,10]}\n",
    "    gs = GridSearchCV(estimator=lr, param_grid=param_grid, scoring='f1', cv=5, verbose=2)\n",
    "    gs = gs.fit(X.values,y.values.ravel())\n",
    "    return sampling_type,gs.best_score_,gs.best_params_['C']\n",
    "\n",
    "def transform(transformer,X,y):\n",
    "    print(\"Transforming {}\".format(transformer.__class__.__name__))\n",
    "    skf = StratifiedKFold(n_splits=5, random_state=0, shuffle=False)\n",
    "    \n",
    "    for train_idx, test_idx in skf.split(X,y):\n",
    "        X_resampled,y_resampled = transformer.fit_sample(X.iloc[train_idx],y.iloc[train_idx])\n",
    "    \n",
    "    return transformer.__class__.__name__,pd.DataFrame(X_resampled), pd.DataFrame(y_resampled)"
   ]
  },
  {
   "cell_type": "code",
   "execution_count": 43,
   "metadata": {},
   "outputs": [
    {
     "name": "stdout",
     "output_type": "stream",
     "text": [
      "Transforming SMOTE\n",
      "Transforming RandomOverSampler\n",
      "Transforming NearMiss\n",
      "Transforming RandomUnderSampler\n",
      "Transforming SMOTEENN\n",
      "Transforming SMOTETomek\n"
     ]
    }
   ],
   "source": [
    "datasets = []\n",
    "datasets.append((\"base\",X_train,y_train))\n",
    "datasets.append(transform(SMOTE(n_jobs=-1),X_train,y_train))\n",
    "datasets.append(transform(RandomOverSampler(),X_train,y_train))\n",
    "#datasets.append(transform(ClusterCentroids(n_jobs=-1),X_train,y_train))\n",
    "datasets.append(transform(NearMiss(n_jobs=-1),X_train,y_train))\n",
    "datasets.append(transform(RandomUnderSampler(),X_train,y_train))\n",
    "datasets.append(transform(SMOTEENN(),X_train,y_train))\n",
    "datasets.append(transform(SMOTETomek(),X_train,y_train))"
   ]
  },
  {
   "cell_type": "code",
   "execution_count": 44,
   "metadata": {},
   "outputs": [
    {
     "name": "stdout",
     "output_type": "stream",
     "text": [
      "______________________________________________________________\n",
      "base\n",
      "Fitting 5 folds for each of 4 candidates, totalling 20 fits\n",
      "[CV] C=0.01 ..........................................................\n"
     ]
    },
    {
     "name": "stderr",
     "output_type": "stream",
     "text": [
      "[Parallel(n_jobs=1)]: Using backend SequentialBackend with 1 concurrent workers.\n",
      "[Parallel(n_jobs=1)]: Done   1 out of   1 | elapsed:    0.2s remaining:    0.0s\n"
     ]
    },
    {
     "name": "stdout",
     "output_type": "stream",
     "text": [
      "[CV] ........................................... C=0.01, total=   0.2s\n",
      "[CV] C=0.01 ..........................................................\n",
      "[CV] ........................................... C=0.01, total=   0.2s\n",
      "[CV] C=0.01 ..........................................................\n",
      "[CV] ........................................... C=0.01, total=   0.2s\n",
      "[CV] C=0.01 ..........................................................\n",
      "[CV] ........................................... C=0.01, total=   0.2s\n",
      "[CV] C=0.01 ..........................................................\n",
      "[CV] ........................................... C=0.01, total=   0.2s\n",
      "[CV] C=0.1 ...........................................................\n",
      "[CV] ............................................ C=0.1, total=   0.8s\n",
      "[CV] C=0.1 ...........................................................\n",
      "[CV] ............................................ C=0.1, total=   0.9s\n",
      "[CV] C=0.1 ...........................................................\n",
      "[CV] ............................................ C=0.1, total=   1.2s\n",
      "[CV] C=0.1 ...........................................................\n",
      "[CV] ............................................ C=0.1, total=   1.2s\n",
      "[CV] C=0.1 ...........................................................\n",
      "[CV] ............................................ C=0.1, total=   1.1s\n",
      "[CV] C=1 .............................................................\n",
      "[CV] .............................................. C=1, total=   9.9s\n",
      "[CV] C=1 .............................................................\n",
      "[CV] .............................................. C=1, total=  10.0s\n",
      "[CV] C=1 .............................................................\n",
      "[CV] .............................................. C=1, total=   9.0s\n",
      "[CV] C=1 .............................................................\n",
      "[CV] .............................................. C=1, total=   4.5s\n",
      "[CV] C=1 .............................................................\n",
      "[CV] .............................................. C=1, total=   6.6s\n",
      "[CV] C=10 ............................................................\n",
      "[CV] ............................................. C=10, total=   4.7s\n",
      "[CV] C=10 ............................................................\n",
      "[CV] ............................................. C=10, total=   5.6s\n",
      "[CV] C=10 ............................................................\n",
      "[CV] ............................................. C=10, total=   2.9s\n",
      "[CV] C=10 ............................................................\n",
      "[CV] ............................................. C=10, total=   7.6s\n",
      "[CV] C=10 ............................................................\n",
      "[CV] ............................................. C=10, total=   7.3s\n"
     ]
    },
    {
     "name": "stderr",
     "output_type": "stream",
     "text": [
      "[Parallel(n_jobs=1)]: Done  20 out of  20 | elapsed:  1.2min finished\n"
     ]
    },
    {
     "name": "stdout",
     "output_type": "stream",
     "text": [
      "______________________________________________________________\n",
      "______________________________________________________________\n",
      "SMOTE\n",
      "Fitting 5 folds for each of 4 candidates, totalling 20 fits\n",
      "[CV] C=0.01 ..........................................................\n"
     ]
    },
    {
     "name": "stderr",
     "output_type": "stream",
     "text": [
      "[Parallel(n_jobs=1)]: Using backend SequentialBackend with 1 concurrent workers.\n"
     ]
    },
    {
     "name": "stdout",
     "output_type": "stream",
     "text": [
      "[CV] ........................................... C=0.01, total=   0.6s\n",
      "[CV] C=0.01 ..........................................................\n"
     ]
    },
    {
     "name": "stderr",
     "output_type": "stream",
     "text": [
      "[Parallel(n_jobs=1)]: Done   1 out of   1 | elapsed:    0.6s remaining:    0.0s\n"
     ]
    },
    {
     "name": "stdout",
     "output_type": "stream",
     "text": [
      "[CV] ........................................... C=0.01, total=   0.5s\n",
      "[CV] C=0.01 ..........................................................\n",
      "[CV] ........................................... C=0.01, total=   0.5s\n",
      "[CV] C=0.01 ..........................................................\n",
      "[CV] ........................................... C=0.01, total=   0.6s\n",
      "[CV] C=0.01 ..........................................................\n",
      "[CV] ........................................... C=0.01, total=   0.5s\n",
      "[CV] C=0.1 ...........................................................\n",
      "[CV] ............................................ C=0.1, total=   4.6s\n",
      "[CV] C=0.1 ...........................................................\n",
      "[CV] ............................................ C=0.1, total=   3.8s\n",
      "[CV] C=0.1 ...........................................................\n",
      "[CV] ............................................ C=0.1, total=   3.2s\n",
      "[CV] C=0.1 ...........................................................\n",
      "[CV] ............................................ C=0.1, total=   4.8s\n",
      "[CV] C=0.1 ...........................................................\n",
      "[CV] ............................................ C=0.1, total=   4.2s\n",
      "[CV] C=1 .............................................................\n",
      "[CV] .............................................. C=1, total=   5.0s\n",
      "[CV] C=1 .............................................................\n",
      "[CV] .............................................. C=1, total=   6.0s\n",
      "[CV] C=1 .............................................................\n",
      "[CV] .............................................. C=1, total=   6.0s\n",
      "[CV] C=1 .............................................................\n",
      "[CV] .............................................. C=1, total=   4.9s\n",
      "[CV] C=1 .............................................................\n",
      "[CV] .............................................. C=1, total=   6.4s\n",
      "[CV] C=10 ............................................................\n",
      "[CV] ............................................. C=10, total=   1.4s\n",
      "[CV] C=10 ............................................................\n",
      "[CV] ............................................. C=10, total=   1.5s\n",
      "[CV] C=10 ............................................................\n",
      "[CV] ............................................. C=10, total=   2.2s\n",
      "[CV] C=10 ............................................................\n",
      "[CV] ............................................. C=10, total=   1.6s\n",
      "[CV] C=10 ............................................................\n",
      "[CV] ............................................. C=10, total=   1.9s\n"
     ]
    },
    {
     "name": "stderr",
     "output_type": "stream",
     "text": [
      "[Parallel(n_jobs=1)]: Done  20 out of  20 | elapsed:  1.0min finished\n"
     ]
    },
    {
     "name": "stdout",
     "output_type": "stream",
     "text": [
      "______________________________________________________________\n",
      "______________________________________________________________\n",
      "RandomOverSampler\n",
      "Fitting 5 folds for each of 4 candidates, totalling 20 fits\n",
      "[CV] C=0.01 ..........................................................\n"
     ]
    },
    {
     "name": "stderr",
     "output_type": "stream",
     "text": [
      "[Parallel(n_jobs=1)]: Using backend SequentialBackend with 1 concurrent workers.\n"
     ]
    },
    {
     "name": "stdout",
     "output_type": "stream",
     "text": [
      "[CV] ........................................... C=0.01, total=   0.3s\n",
      "[CV] C=0.01 ..........................................................\n"
     ]
    },
    {
     "name": "stderr",
     "output_type": "stream",
     "text": [
      "[Parallel(n_jobs=1)]: Done   1 out of   1 | elapsed:    0.3s remaining:    0.0s\n"
     ]
    },
    {
     "name": "stdout",
     "output_type": "stream",
     "text": [
      "[CV] ........................................... C=0.01, total=   0.3s\n",
      "[CV] C=0.01 ..........................................................\n",
      "[CV] ........................................... C=0.01, total=   0.3s\n",
      "[CV] C=0.01 ..........................................................\n",
      "[CV] ........................................... C=0.01, total=   0.3s\n",
      "[CV] C=0.01 ..........................................................\n",
      "[CV] ........................................... C=0.01, total=   0.3s\n",
      "[CV] C=0.1 ...........................................................\n",
      "[CV] ............................................ C=0.1, total=   2.2s\n",
      "[CV] C=0.1 ...........................................................\n",
      "[CV] ............................................ C=0.1, total=   1.8s\n",
      "[CV] C=0.1 ...........................................................\n",
      "[CV] ............................................ C=0.1, total=   2.2s\n",
      "[CV] C=0.1 ...........................................................\n",
      "[CV] ............................................ C=0.1, total=   2.5s\n",
      "[CV] C=0.1 ...........................................................\n",
      "[CV] ............................................ C=0.1, total=   2.0s\n",
      "[CV] C=1 .............................................................\n",
      "[CV] .............................................. C=1, total=   5.8s\n",
      "[CV] C=1 .............................................................\n",
      "[CV] .............................................. C=1, total=   3.3s\n",
      "[CV] C=1 .............................................................\n",
      "[CV] .............................................. C=1, total=   3.9s\n",
      "[CV] C=1 .............................................................\n",
      "[CV] .............................................. C=1, total=   2.7s\n",
      "[CV] C=1 .............................................................\n",
      "[CV] .............................................. C=1, total=   2.8s\n",
      "[CV] C=10 ............................................................\n",
      "[CV] ............................................. C=10, total=   1.4s\n",
      "[CV] C=10 ............................................................\n",
      "[CV] ............................................. C=10, total=   1.7s\n",
      "[CV] C=10 ............................................................\n",
      "[CV] ............................................. C=10, total=   0.9s\n",
      "[CV] C=10 ............................................................\n",
      "[CV] ............................................. C=10, total=   2.2s\n",
      "[CV] C=10 ............................................................\n",
      "[CV] ............................................. C=10, total=   1.5s\n"
     ]
    },
    {
     "name": "stderr",
     "output_type": "stream",
     "text": [
      "[Parallel(n_jobs=1)]: Done  20 out of  20 | elapsed:   38.7s finished\n"
     ]
    },
    {
     "name": "stdout",
     "output_type": "stream",
     "text": [
      "______________________________________________________________\n",
      "______________________________________________________________\n",
      "NearMiss\n",
      "Fitting 5 folds for each of 4 candidates, totalling 20 fits\n",
      "[CV] C=0.01 ..........................................................\n",
      "[CV] ........................................... C=0.01, total=   0.0s\n",
      "[CV] C=0.01 ..........................................................\n",
      "[CV] ........................................... C=0.01, total=   0.0s\n",
      "[CV] C=0.01 ..........................................................\n",
      "[CV] ........................................... C=0.01, total=   0.0s\n",
      "[CV] C=0.01 ..........................................................\n",
      "[CV] ........................................... C=0.01, total=   0.0s\n",
      "[CV] C=0.01 ..........................................................\n",
      "[CV] ........................................... C=0.01, total=   0.0s\n",
      "[CV] C=0.1 ...........................................................\n",
      "[CV] ............................................ C=0.1, total=   0.0s\n",
      "[CV] C=0.1 ...........................................................\n",
      "[CV] ............................................ C=0.1, total=   0.0s\n",
      "[CV] C=0.1 ...........................................................\n"
     ]
    },
    {
     "name": "stderr",
     "output_type": "stream",
     "text": [
      "[Parallel(n_jobs=1)]: Using backend SequentialBackend with 1 concurrent workers.\n",
      "[Parallel(n_jobs=1)]: Done   1 out of   1 | elapsed:    0.0s remaining:    0.0s\n"
     ]
    },
    {
     "name": "stdout",
     "output_type": "stream",
     "text": [
      "[CV] ............................................ C=0.1, total=   0.0s\n",
      "[CV] C=0.1 ...........................................................\n",
      "[CV] ............................................ C=0.1, total=   0.0s\n",
      "[CV] C=0.1 ...........................................................\n",
      "[CV] ............................................ C=0.1, total=   0.0s\n",
      "[CV] C=1 .............................................................\n",
      "[CV] .............................................. C=1, total=   0.2s\n",
      "[CV] C=1 .............................................................\n",
      "[CV] .............................................. C=1, total=   0.2s\n",
      "[CV] C=1 .............................................................\n",
      "[CV] .............................................. C=1, total=   0.2s\n",
      "[CV] C=1 .............................................................\n",
      "[CV] .............................................. C=1, total=   0.3s\n",
      "[CV] C=1 .............................................................\n",
      "[CV] .............................................. C=1, total=   0.2s\n",
      "[CV] C=10 ............................................................\n",
      "[CV] ............................................. C=10, total=   0.6s\n",
      "[CV] C=10 ............................................................\n",
      "[CV] ............................................. C=10, total=   0.3s\n",
      "[CV] C=10 ............................................................\n",
      "[CV] ............................................. C=10, total=   0.4s\n",
      "[CV] C=10 ............................................................\n",
      "[CV] ............................................. C=10, total=   0.4s\n",
      "[CV] C=10 ............................................................\n",
      "[CV] ............................................. C=10, total=   0.6s\n"
     ]
    },
    {
     "name": "stderr",
     "output_type": "stream",
     "text": [
      "[Parallel(n_jobs=1)]: Done  20 out of  20 | elapsed:    3.8s finished\n"
     ]
    },
    {
     "name": "stdout",
     "output_type": "stream",
     "text": [
      "______________________________________________________________\n",
      "______________________________________________________________\n",
      "RandomUnderSampler\n",
      "Fitting 5 folds for each of 4 candidates, totalling 20 fits\n",
      "[CV] C=0.01 ..........................................................\n",
      "[CV] ........................................... C=0.01, total=   0.0s\n",
      "[CV] C=0.01 ..........................................................\n",
      "[CV] ........................................... C=0.01, total=   0.0s\n",
      "[CV] C=0.01 ..........................................................\n",
      "[CV] ........................................... C=0.01, total=   0.0s\n",
      "[CV] C=0.01 ..........................................................\n",
      "[CV] ........................................... C=0.01, total=   0.0s\n",
      "[CV] C=0.01 ..........................................................\n",
      "[CV] ........................................... C=0.01, total=   0.0s\n",
      "[CV] C=0.1 ...........................................................\n",
      "[CV] ............................................ C=0.1, total=   0.0s\n",
      "[CV] C=0.1 ...........................................................\n",
      "[CV] ............................................ C=0.1, total=   0.0s\n",
      "[CV] C=0.1 ...........................................................\n",
      "[CV] ............................................ C=0.1, total=   0.0s\n",
      "[CV] C=0.1 ...........................................................\n",
      "[CV] ............................................ C=0.1, total=   0.0s\n",
      "[CV] C=0.1 ...........................................................\n",
      "[CV] ............................................ C=0.1, total=   0.0s\n",
      "[CV] C=1 ............................................................."
     ]
    },
    {
     "name": "stderr",
     "output_type": "stream",
     "text": [
      "[Parallel(n_jobs=1)]: Using backend SequentialBackend with 1 concurrent workers.\n",
      "[Parallel(n_jobs=1)]: Done   1 out of   1 | elapsed:    0.0s remaining:    0.0s\n"
     ]
    },
    {
     "name": "stdout",
     "output_type": "stream",
     "text": [
      "\n",
      "[CV] .............................................. C=1, total=   0.2s\n",
      "[CV] C=1 .............................................................\n",
      "[CV] .............................................. C=1, total=   0.2s\n",
      "[CV] C=1 .............................................................\n",
      "[CV] .............................................. C=1, total=   0.2s\n",
      "[CV] C=1 .............................................................\n",
      "[CV] .............................................. C=1, total=   0.3s\n",
      "[CV] C=1 .............................................................\n",
      "[CV] .............................................. C=1, total=   0.1s\n",
      "[CV] C=10 ............................................................\n",
      "[CV] ............................................. C=10, total=   0.2s\n",
      "[CV] C=10 ............................................................\n",
      "[CV] ............................................. C=10, total=   0.3s\n",
      "[CV] C=10 ............................................................\n",
      "[CV] ............................................. C=10, total=   0.5s\n",
      "[CV] C=10 ............................................................\n",
      "[CV] ............................................. C=10, total=   0.3s\n",
      "[CV] C=10 ............................................................\n",
      "[CV] ............................................. C=10, total=   0.3s\n",
      "______________________________________________________________\n",
      "______________________________________________________________\n",
      "SMOTEENN\n",
      "Fitting 5 folds for each of 4 candidates, totalling 20 fits\n",
      "[CV] C=0.01 ..........................................................\n"
     ]
    },
    {
     "name": "stderr",
     "output_type": "stream",
     "text": [
      "[Parallel(n_jobs=1)]: Done  20 out of  20 | elapsed:    2.7s finished\n",
      "[Parallel(n_jobs=1)]: Using backend SequentialBackend with 1 concurrent workers.\n"
     ]
    },
    {
     "name": "stdout",
     "output_type": "stream",
     "text": [
      "[CV] ........................................... C=0.01, total=   0.3s\n",
      "[CV] C=0.01 ..........................................................\n"
     ]
    },
    {
     "name": "stderr",
     "output_type": "stream",
     "text": [
      "[Parallel(n_jobs=1)]: Done   1 out of   1 | elapsed:    0.3s remaining:    0.0s\n"
     ]
    },
    {
     "name": "stdout",
     "output_type": "stream",
     "text": [
      "[CV] ........................................... C=0.01, total=   0.3s\n",
      "[CV] C=0.01 ..........................................................\n",
      "[CV] ........................................... C=0.01, total=   0.3s\n",
      "[CV] C=0.01 ..........................................................\n",
      "[CV] ........................................... C=0.01, total=   0.3s\n",
      "[CV] C=0.01 ..........................................................\n",
      "[CV] ........................................... C=0.01, total=   0.3s\n",
      "[CV] C=0.1 ...........................................................\n",
      "[CV] ............................................ C=0.1, total=   2.4s\n",
      "[CV] C=0.1 ...........................................................\n",
      "[CV] ............................................ C=0.1, total=   2.4s\n",
      "[CV] C=0.1 ...........................................................\n",
      "[CV] ............................................ C=0.1, total=   2.4s\n",
      "[CV] C=0.1 ...........................................................\n",
      "[CV] ............................................ C=0.1, total=   0.9s\n",
      "[CV] C=0.1 ...........................................................\n",
      "[CV] ............................................ C=0.1, total=   0.9s\n",
      "[CV] C=1 .............................................................\n",
      "[CV] .............................................. C=1, total=   1.6s\n",
      "[CV] C=1 .............................................................\n",
      "[CV] .............................................. C=1, total=   3.0s\n",
      "[CV] C=1 .............................................................\n",
      "[CV] .............................................. C=1, total=   1.2s\n",
      "[CV] C=1 .............................................................\n",
      "[CV] .............................................. C=1, total=   1.0s\n",
      "[CV] C=1 .............................................................\n",
      "[CV] .............................................. C=1, total=   3.8s\n",
      "[CV] C=10 ............................................................\n",
      "[CV] ............................................. C=10, total=   2.0s\n",
      "[CV] C=10 ............................................................\n",
      "[CV] ............................................. C=10, total=   0.5s\n",
      "[CV] C=10 ............................................................\n",
      "[CV] ............................................. C=10, total=   0.3s\n",
      "[CV] C=10 ............................................................\n",
      "[CV] ............................................. C=10, total=   0.2s\n",
      "[CV] C=10 ............................................................\n",
      "[CV] ............................................. C=10, total=   0.2s\n"
     ]
    },
    {
     "name": "stderr",
     "output_type": "stream",
     "text": [
      "[Parallel(n_jobs=1)]: Done  20 out of  20 | elapsed:   24.6s finished\n"
     ]
    },
    {
     "name": "stdout",
     "output_type": "stream",
     "text": [
      "______________________________________________________________\n",
      "______________________________________________________________\n",
      "SMOTETomek\n",
      "Fitting 5 folds for each of 4 candidates, totalling 20 fits\n",
      "[CV] C=0.01 ..........................................................\n"
     ]
    },
    {
     "name": "stderr",
     "output_type": "stream",
     "text": [
      "[Parallel(n_jobs=1)]: Using backend SequentialBackend with 1 concurrent workers.\n"
     ]
    },
    {
     "name": "stdout",
     "output_type": "stream",
     "text": [
      "[CV] ........................................... C=0.01, total=   0.4s\n",
      "[CV] C=0.01 ..........................................................\n"
     ]
    },
    {
     "name": "stderr",
     "output_type": "stream",
     "text": [
      "[Parallel(n_jobs=1)]: Done   1 out of   1 | elapsed:    0.4s remaining:    0.0s\n"
     ]
    },
    {
     "name": "stdout",
     "output_type": "stream",
     "text": [
      "[CV] ........................................... C=0.01, total=   0.4s\n",
      "[CV] C=0.01 ..........................................................\n",
      "[CV] ........................................... C=0.01, total=   0.4s\n",
      "[CV] C=0.01 ..........................................................\n",
      "[CV] ........................................... C=0.01, total=   0.4s\n",
      "[CV] C=0.01 ..........................................................\n",
      "[CV] ........................................... C=0.01, total=   0.4s\n",
      "[CV] C=0.1 ...........................................................\n",
      "[CV] ............................................ C=0.1, total=   2.5s\n",
      "[CV] C=0.1 ...........................................................\n",
      "[CV] ............................................ C=0.1, total=   1.7s\n",
      "[CV] C=0.1 ...........................................................\n",
      "[CV] ............................................ C=0.1, total=   2.3s\n",
      "[CV] C=0.1 ...........................................................\n",
      "[CV] ............................................ C=0.1, total=   2.9s\n",
      "[CV] C=0.1 ...........................................................\n",
      "[CV] ............................................ C=0.1, total=   2.7s\n",
      "[CV] C=1 .............................................................\n",
      "[CV] .............................................. C=1, total=   6.9s\n",
      "[CV] C=1 .............................................................\n",
      "[CV] .............................................. C=1, total=   4.0s\n",
      "[CV] C=1 .............................................................\n",
      "[CV] .............................................. C=1, total=   6.6s\n",
      "[CV] C=1 .............................................................\n",
      "[CV] .............................................. C=1, total=   6.5s\n",
      "[CV] C=1 .............................................................\n",
      "[CV] .............................................. C=1, total=   9.8s\n",
      "[CV] C=10 ............................................................\n",
      "[CV] ............................................. C=10, total=   1.3s\n",
      "[CV] C=10 ............................................................\n",
      "[CV] ............................................. C=10, total=   2.2s\n",
      "[CV] C=10 ............................................................\n",
      "[CV] ............................................. C=10, total=   1.2s\n",
      "[CV] C=10 ............................................................\n",
      "[CV] ............................................. C=10, total=   7.0s\n",
      "[CV] C=10 ............................................................\n",
      "[CV] ............................................. C=10, total=   1.6s\n"
     ]
    },
    {
     "name": "stderr",
     "output_type": "stream",
     "text": [
      "[Parallel(n_jobs=1)]: Done  20 out of  20 | elapsed:  1.0min finished\n"
     ]
    },
    {
     "name": "stdout",
     "output_type": "stream",
     "text": [
      "______________________________________________________________\n"
     ]
    }
   ],
   "source": [
    "benchmark_scores = []\n",
    "for sample_type,X,y in datasets:\n",
    "    print('______________________________________________________________')\n",
    "    print('{}'.format(sample_type))\n",
    "    benchmark_scores.append(benchmark(sample_type,X,y))\n",
    "    print('______________________________________________________________')\n",
    "    "
   ]
  },
  {
   "cell_type": "code",
   "execution_count": 45,
   "metadata": {},
   "outputs": [
    {
     "data": {
      "text/plain": [
       "[('base', 0.4003119703582629, 1),\n",
       " ('SMOTE', 0.8137642964515142, 0.1),\n",
       " ('RandomOverSampler', 0.8007061383915703, 10),\n",
       " ('NearMiss', 0.7584845535210771, 1),\n",
       " ('RandomUnderSampler', 0.8025567967778134, 0.01),\n",
       " ('SMOTEENN', 0.9146227017637993, 0.1),\n",
       " ('SMOTETomek', 0.8140813221567895, 10)]"
      ]
     },
     "execution_count": 45,
     "metadata": {},
     "output_type": "execute_result"
    }
   ],
   "source": [
    "benchmark_scores"
   ]
  },
  {
   "cell_type": "markdown",
   "metadata": {},
   "source": [
    "##### Observations\n",
    "\n",
    "-  Different value of C for different methods with different accuracy"
   ]
  },
  {
   "cell_type": "code",
   "execution_count": 47,
   "metadata": {},
   "outputs": [
    {
     "name": "stdout",
     "output_type": "stream",
     "text": [
      "Training on base\n"
     ]
    },
    {
     "name": "stderr",
     "output_type": "stream",
     "text": [
      "/home/bhbhan/.conda/envs/newron_clone/lib/python3.6/site-packages/sklearn/metrics/ranking.py:104: DeprecationWarning: The 'reorder' parameter has been deprecated in version 0.20 and will be removed in 0.22. It is recommended not to set 'reorder' and ensure that x is monotonic increasing or monotonic decreasing.\n",
      "  DeprecationWarning)\n"
     ]
    },
    {
     "name": "stdout",
     "output_type": "stream",
     "text": [
      "Training on SMOTE\n"
     ]
    },
    {
     "name": "stderr",
     "output_type": "stream",
     "text": [
      "/home/bhbhan/.conda/envs/newron_clone/lib/python3.6/site-packages/sklearn/metrics/ranking.py:104: DeprecationWarning: The 'reorder' parameter has been deprecated in version 0.20 and will be removed in 0.22. It is recommended not to set 'reorder' and ensure that x is monotonic increasing or monotonic decreasing.\n",
      "  DeprecationWarning)\n"
     ]
    },
    {
     "name": "stdout",
     "output_type": "stream",
     "text": [
      "Training on RandomOverSampler\n"
     ]
    },
    {
     "name": "stderr",
     "output_type": "stream",
     "text": [
      "/home/bhbhan/.conda/envs/newron_clone/lib/python3.6/site-packages/sklearn/metrics/ranking.py:104: DeprecationWarning: The 'reorder' parameter has been deprecated in version 0.20 and will be removed in 0.22. It is recommended not to set 'reorder' and ensure that x is monotonic increasing or monotonic decreasing.\n",
      "  DeprecationWarning)\n"
     ]
    },
    {
     "name": "stdout",
     "output_type": "stream",
     "text": [
      "Training on NearMiss\n"
     ]
    },
    {
     "name": "stderr",
     "output_type": "stream",
     "text": [
      "/home/bhbhan/.conda/envs/newron_clone/lib/python3.6/site-packages/sklearn/metrics/ranking.py:104: DeprecationWarning: The 'reorder' parameter has been deprecated in version 0.20 and will be removed in 0.22. It is recommended not to set 'reorder' and ensure that x is monotonic increasing or monotonic decreasing.\n",
      "  DeprecationWarning)\n",
      "/home/bhbhan/.conda/envs/newron_clone/lib/python3.6/site-packages/sklearn/metrics/ranking.py:104: DeprecationWarning: The 'reorder' parameter has been deprecated in version 0.20 and will be removed in 0.22. It is recommended not to set 'reorder' and ensure that x is monotonic increasing or monotonic decreasing.\n",
      "  DeprecationWarning)\n"
     ]
    },
    {
     "name": "stdout",
     "output_type": "stream",
     "text": [
      "Training on RandomUnderSampler\n",
      "Training on SMOTEENN\n"
     ]
    },
    {
     "name": "stderr",
     "output_type": "stream",
     "text": [
      "/home/bhbhan/.conda/envs/newron_clone/lib/python3.6/site-packages/sklearn/metrics/ranking.py:104: DeprecationWarning: The 'reorder' parameter has been deprecated in version 0.20 and will be removed in 0.22. It is recommended not to set 'reorder' and ensure that x is monotonic increasing or monotonic decreasing.\n",
      "  DeprecationWarning)\n"
     ]
    },
    {
     "name": "stdout",
     "output_type": "stream",
     "text": [
      "Training on SMOTETomek\n"
     ]
    },
    {
     "name": "stderr",
     "output_type": "stream",
     "text": [
      "/home/bhbhan/.conda/envs/newron_clone/lib/python3.6/site-packages/sklearn/metrics/ranking.py:104: DeprecationWarning: The 'reorder' parameter has been deprecated in version 0.20 and will be removed in 0.22. It is recommended not to set 'reorder' and ensure that x is monotonic increasing or monotonic decreasing.\n",
      "  DeprecationWarning)\n"
     ]
    }
   ],
   "source": [
    "scores = []\n",
    "# train models based on benchmark params\n",
    "for sampling_type,score,param in benchmark_scores:\n",
    "    print(\"Training on {}\".format(sampling_type))\n",
    "    lr = LogisticRegression(penalty = 'l1',C=param)\n",
    "    for s_type,X,y in datasets:\n",
    "        if s_type == sampling_type:\n",
    "            lr.fit(X.values,y.values.ravel())\n",
    "            pred_test = lr.predict(X_valid.values)\n",
    "            pred_test_probs = lr.predict_proba(X_valid.values)\n",
    "            probs = lr.decision_function(X_valid.values)\n",
    "            fpr, tpr, thresholds = roc_curve(y_valid.values.ravel(),pred_test)\n",
    "            p,r,t = precision_recall_curve(y_valid.values.ravel(),probs)\n",
    "            scores.append((sampling_type,\n",
    "                           f1_score(y_valid.values.ravel(),pred_test),\n",
    "                           precision_score(y_valid.values.ravel(),pred_test),\n",
    "                           recall_score(y_valid.values.ravel(),pred_test),\n",
    "                           accuracy_score(y_valid.values.ravel(),pred_test),\n",
    "                           auc(fpr, tpr),\n",
    "                           auc(p,r,reorder=True),\n",
    "                           confusion_matrix(y_valid.values.ravel(),pred_test)))"
   ]
  },
  {
   "cell_type": "code",
   "execution_count": 48,
   "metadata": {},
   "outputs": [
    {
     "data": {
      "text/html": [
       "<div>\n",
       "<style scoped>\n",
       "    .dataframe tbody tr th:only-of-type {\n",
       "        vertical-align: middle;\n",
       "    }\n",
       "\n",
       "    .dataframe tbody tr th {\n",
       "        vertical-align: top;\n",
       "    }\n",
       "\n",
       "    .dataframe thead th {\n",
       "        text-align: right;\n",
       "    }\n",
       "</style>\n",
       "<table border=\"1\" class=\"dataframe\">\n",
       "  <thead>\n",
       "    <tr style=\"text-align: right;\">\n",
       "      <th></th>\n",
       "      <th>Sampling Type</th>\n",
       "      <th>f1</th>\n",
       "      <th>precision</th>\n",
       "      <th>recall</th>\n",
       "      <th>accuracy</th>\n",
       "      <th>auc_roc</th>\n",
       "      <th>auc_pr</th>\n",
       "      <th>confusion_matrix</th>\n",
       "      <th>Model</th>\n",
       "    </tr>\n",
       "  </thead>\n",
       "  <tbody>\n",
       "    <tr>\n",
       "      <th>0</th>\n",
       "      <td>base</td>\n",
       "      <td>0.400435</td>\n",
       "      <td>0.814159</td>\n",
       "      <td>0.265512</td>\n",
       "      <td>0.932981</td>\n",
       "      <td>0.629967</td>\n",
       "      <td>0.443001</td>\n",
       "      <td>[[14973, 84], [1018, 368]]</td>\n",
       "      <td>LogisticRegression</td>\n",
       "    </tr>\n",
       "    <tr>\n",
       "      <th>1</th>\n",
       "      <td>SMOTE</td>\n",
       "      <td>0.389312</td>\n",
       "      <td>0.257913</td>\n",
       "      <td>0.793651</td>\n",
       "      <td>0.790123</td>\n",
       "      <td>0.791725</td>\n",
       "      <td>0.386894</td>\n",
       "      <td>[[11892, 3165], [286, 1100]]</td>\n",
       "      <td>LogisticRegression</td>\n",
       "    </tr>\n",
       "    <tr>\n",
       "      <th>2</th>\n",
       "      <td>RandomOverSampler</td>\n",
       "      <td>0.380391</td>\n",
       "      <td>0.248132</td>\n",
       "      <td>0.814574</td>\n",
       "      <td>0.776318</td>\n",
       "      <td>0.793686</td>\n",
       "      <td>0.375850</td>\n",
       "      <td>[[11636, 3421], [257, 1129]]</td>\n",
       "      <td>LogisticRegression</td>\n",
       "    </tr>\n",
       "    <tr>\n",
       "      <th>3</th>\n",
       "      <td>NearMiss</td>\n",
       "      <td>0.147048</td>\n",
       "      <td>0.081820</td>\n",
       "      <td>0.725108</td>\n",
       "      <td>0.290944</td>\n",
       "      <td>0.488044</td>\n",
       "      <td>0.172442</td>\n",
       "      <td>[[3779, 11278], [381, 1005]]</td>\n",
       "      <td>LogisticRegression</td>\n",
       "    </tr>\n",
       "    <tr>\n",
       "      <th>4</th>\n",
       "      <td>RandomUnderSampler</td>\n",
       "      <td>0.358168</td>\n",
       "      <td>0.227149</td>\n",
       "      <td>0.846320</td>\n",
       "      <td>0.744329</td>\n",
       "      <td>0.790630</td>\n",
       "      <td>0.359851</td>\n",
       "      <td>[[11066, 3991], [213, 1173]]</td>\n",
       "      <td>LogisticRegression</td>\n",
       "    </tr>\n",
       "    <tr>\n",
       "      <th>5</th>\n",
       "      <td>SMOTEENN</td>\n",
       "      <td>0.358303</td>\n",
       "      <td>0.223739</td>\n",
       "      <td>0.898990</td>\n",
       "      <td>0.728578</td>\n",
       "      <td>0.805940</td>\n",
       "      <td>0.342146</td>\n",
       "      <td>[[10734, 4323], [140, 1246]]</td>\n",
       "      <td>LogisticRegression</td>\n",
       "    </tr>\n",
       "    <tr>\n",
       "      <th>6</th>\n",
       "      <td>SMOTETomek</td>\n",
       "      <td>0.389924</td>\n",
       "      <td>0.258527</td>\n",
       "      <td>0.792929</td>\n",
       "      <td>0.790853</td>\n",
       "      <td>0.791796</td>\n",
       "      <td>0.385489</td>\n",
       "      <td>[[11905, 3152], [287, 1099]]</td>\n",
       "      <td>LogisticRegression</td>\n",
       "    </tr>\n",
       "  </tbody>\n",
       "</table>\n",
       "</div>"
      ],
      "text/plain": [
       "        Sampling Type        f1  precision    recall  accuracy   auc_roc  \\\n",
       "0                base  0.400435   0.814159  0.265512  0.932981  0.629967   \n",
       "1               SMOTE  0.389312   0.257913  0.793651  0.790123  0.791725   \n",
       "2   RandomOverSampler  0.380391   0.248132  0.814574  0.776318  0.793686   \n",
       "3            NearMiss  0.147048   0.081820  0.725108  0.290944  0.488044   \n",
       "4  RandomUnderSampler  0.358168   0.227149  0.846320  0.744329  0.790630   \n",
       "5            SMOTEENN  0.358303   0.223739  0.898990  0.728578  0.805940   \n",
       "6          SMOTETomek  0.389924   0.258527  0.792929  0.790853  0.791796   \n",
       "\n",
       "     auc_pr              confusion_matrix               Model  \n",
       "0  0.443001    [[14973, 84], [1018, 368]]  LogisticRegression  \n",
       "1  0.386894  [[11892, 3165], [286, 1100]]  LogisticRegression  \n",
       "2  0.375850  [[11636, 3421], [257, 1129]]  LogisticRegression  \n",
       "3  0.172442  [[3779, 11278], [381, 1005]]  LogisticRegression  \n",
       "4  0.359851  [[11066, 3991], [213, 1173]]  LogisticRegression  \n",
       "5  0.342146  [[10734, 4323], [140, 1246]]  LogisticRegression  \n",
       "6  0.385489  [[11905, 3152], [287, 1099]]  LogisticRegression  "
      ]
     },
     "execution_count": 48,
     "metadata": {},
     "output_type": "execute_result"
    }
   ],
   "source": [
    "sampling_results = pd.DataFrame(scores,columns=['Sampling Type','f1','precision','recall','accuracy','auc_roc','auc_pr','confusion_matrix'])\n",
    "sampling_results['Model']='LogisticRegression'\n",
    "sampling_results"
   ]
  },
  {
   "cell_type": "markdown",
   "metadata": {},
   "source": [
    "##### Observations\n",
    "***\n",
    "-  Tried bunch of over/under sampling techniques\n",
    "***"
   ]
  },
  {
   "cell_type": "code",
   "execution_count": 49,
   "metadata": {},
   "outputs": [
    {
     "name": "stderr",
     "output_type": "stream",
     "text": [
      "/home/bhbhan/.conda/envs/newron_clone/lib/python3.6/site-packages/sklearn/metrics/ranking.py:104: DeprecationWarning: The 'reorder' parameter has been deprecated in version 0.20 and will be removed in 0.22. It is recommended not to set 'reorder' and ensure that x is monotonic increasing or monotonic decreasing.\n",
      "  DeprecationWarning)\n"
     ]
    }
   ],
   "source": [
    "lr = LogisticRegression(penalty = 'l1',class_weight=\"balanced\")\n",
    "lr.fit(X_train.values,y_train.values.ravel())\n",
    "scores = []\n",
    "pred_test = lr.predict(X_valid.values)\n",
    "pred_test_probs = lr.predict_proba(X_valid.values)\n",
    "probs = lr.decision_function(X_valid.values)\n",
    "fpr, tpr, thresholds = roc_curve(y_valid.values.ravel(),pred_test)\n",
    "p,r,t = precision_recall_curve(y_valid.values.ravel(),probs)\n",
    "scores.append((\"weighted_base\",\n",
    "                           f1_score(y_valid.values.ravel(),pred_test),\n",
    "                           precision_score(y_valid.values.ravel(),pred_test),\n",
    "                           recall_score(y_valid.values.ravel(),pred_test),\n",
    "                           accuracy_score(y_valid.values.ravel(),pred_test),\n",
    "                           auc(fpr, tpr),\n",
    "                           auc(p,r,reorder=True),\n",
    "                           confusion_matrix(y_valid.values.ravel(),pred_test)))\n",
    "\n",
    "scores = pd.DataFrame(scores,columns=['Sampling Type','f1','precision','recall','accuracy','auc_roc','auc_pr',\\\n",
    "                                      'confusion_matrix'])\n",
    "scores['Model']='LogisticRegression'"
   ]
  },
  {
   "cell_type": "code",
   "execution_count": 50,
   "metadata": {},
   "outputs": [
    {
     "data": {
      "text/html": [
       "<div>\n",
       "<style scoped>\n",
       "    .dataframe tbody tr th:only-of-type {\n",
       "        vertical-align: middle;\n",
       "    }\n",
       "\n",
       "    .dataframe tbody tr th {\n",
       "        vertical-align: top;\n",
       "    }\n",
       "\n",
       "    .dataframe thead th {\n",
       "        text-align: right;\n",
       "    }\n",
       "</style>\n",
       "<table border=\"1\" class=\"dataframe\">\n",
       "  <thead>\n",
       "    <tr style=\"text-align: right;\">\n",
       "      <th></th>\n",
       "      <th>Sampling Type</th>\n",
       "      <th>f1</th>\n",
       "      <th>precision</th>\n",
       "      <th>recall</th>\n",
       "      <th>accuracy</th>\n",
       "      <th>auc_roc</th>\n",
       "      <th>auc_pr</th>\n",
       "      <th>confusion_matrix</th>\n",
       "      <th>Model</th>\n",
       "    </tr>\n",
       "  </thead>\n",
       "  <tbody>\n",
       "    <tr>\n",
       "      <th>0</th>\n",
       "      <td>base</td>\n",
       "      <td>0.400435</td>\n",
       "      <td>0.814159</td>\n",
       "      <td>0.265512</td>\n",
       "      <td>0.932981</td>\n",
       "      <td>0.629967</td>\n",
       "      <td>0.443001</td>\n",
       "      <td>[[14973, 84], [1018, 368]]</td>\n",
       "      <td>LogisticRegression</td>\n",
       "    </tr>\n",
       "    <tr>\n",
       "      <th>1</th>\n",
       "      <td>SMOTE</td>\n",
       "      <td>0.389312</td>\n",
       "      <td>0.257913</td>\n",
       "      <td>0.793651</td>\n",
       "      <td>0.790123</td>\n",
       "      <td>0.791725</td>\n",
       "      <td>0.386894</td>\n",
       "      <td>[[11892, 3165], [286, 1100]]</td>\n",
       "      <td>LogisticRegression</td>\n",
       "    </tr>\n",
       "    <tr>\n",
       "      <th>2</th>\n",
       "      <td>RandomOverSampler</td>\n",
       "      <td>0.380391</td>\n",
       "      <td>0.248132</td>\n",
       "      <td>0.814574</td>\n",
       "      <td>0.776318</td>\n",
       "      <td>0.793686</td>\n",
       "      <td>0.375850</td>\n",
       "      <td>[[11636, 3421], [257, 1129]]</td>\n",
       "      <td>LogisticRegression</td>\n",
       "    </tr>\n",
       "    <tr>\n",
       "      <th>3</th>\n",
       "      <td>NearMiss</td>\n",
       "      <td>0.147048</td>\n",
       "      <td>0.081820</td>\n",
       "      <td>0.725108</td>\n",
       "      <td>0.290944</td>\n",
       "      <td>0.488044</td>\n",
       "      <td>0.172442</td>\n",
       "      <td>[[3779, 11278], [381, 1005]]</td>\n",
       "      <td>LogisticRegression</td>\n",
       "    </tr>\n",
       "    <tr>\n",
       "      <th>4</th>\n",
       "      <td>RandomUnderSampler</td>\n",
       "      <td>0.358168</td>\n",
       "      <td>0.227149</td>\n",
       "      <td>0.846320</td>\n",
       "      <td>0.744329</td>\n",
       "      <td>0.790630</td>\n",
       "      <td>0.359851</td>\n",
       "      <td>[[11066, 3991], [213, 1173]]</td>\n",
       "      <td>LogisticRegression</td>\n",
       "    </tr>\n",
       "    <tr>\n",
       "      <th>5</th>\n",
       "      <td>SMOTEENN</td>\n",
       "      <td>0.358303</td>\n",
       "      <td>0.223739</td>\n",
       "      <td>0.898990</td>\n",
       "      <td>0.728578</td>\n",
       "      <td>0.805940</td>\n",
       "      <td>0.342146</td>\n",
       "      <td>[[10734, 4323], [140, 1246]]</td>\n",
       "      <td>LogisticRegression</td>\n",
       "    </tr>\n",
       "    <tr>\n",
       "      <th>6</th>\n",
       "      <td>SMOTETomek</td>\n",
       "      <td>0.389924</td>\n",
       "      <td>0.258527</td>\n",
       "      <td>0.792929</td>\n",
       "      <td>0.790853</td>\n",
       "      <td>0.791796</td>\n",
       "      <td>0.385489</td>\n",
       "      <td>[[11905, 3152], [287, 1099]]</td>\n",
       "      <td>LogisticRegression</td>\n",
       "    </tr>\n",
       "    <tr>\n",
       "      <th>0</th>\n",
       "      <td>weighted_base</td>\n",
       "      <td>0.383171</td>\n",
       "      <td>0.249563</td>\n",
       "      <td>0.824675</td>\n",
       "      <td>0.776197</td>\n",
       "      <td>0.798205</td>\n",
       "      <td>0.378323</td>\n",
       "      <td>[[11620, 3437], [243, 1143]]</td>\n",
       "      <td>LogisticRegression</td>\n",
       "    </tr>\n",
       "  </tbody>\n",
       "</table>\n",
       "</div>"
      ],
      "text/plain": [
       "        Sampling Type        f1  precision    recall  accuracy   auc_roc  \\\n",
       "0                base  0.400435   0.814159  0.265512  0.932981  0.629967   \n",
       "1               SMOTE  0.389312   0.257913  0.793651  0.790123  0.791725   \n",
       "2   RandomOverSampler  0.380391   0.248132  0.814574  0.776318  0.793686   \n",
       "3            NearMiss  0.147048   0.081820  0.725108  0.290944  0.488044   \n",
       "4  RandomUnderSampler  0.358168   0.227149  0.846320  0.744329  0.790630   \n",
       "5            SMOTEENN  0.358303   0.223739  0.898990  0.728578  0.805940   \n",
       "6          SMOTETomek  0.389924   0.258527  0.792929  0.790853  0.791796   \n",
       "0       weighted_base  0.383171   0.249563  0.824675  0.776197  0.798205   \n",
       "\n",
       "     auc_pr              confusion_matrix               Model  \n",
       "0  0.443001    [[14973, 84], [1018, 368]]  LogisticRegression  \n",
       "1  0.386894  [[11892, 3165], [286, 1100]]  LogisticRegression  \n",
       "2  0.375850  [[11636, 3421], [257, 1129]]  LogisticRegression  \n",
       "3  0.172442  [[3779, 11278], [381, 1005]]  LogisticRegression  \n",
       "4  0.359851  [[11066, 3991], [213, 1173]]  LogisticRegression  \n",
       "5  0.342146  [[10734, 4323], [140, 1246]]  LogisticRegression  \n",
       "6  0.385489  [[11905, 3152], [287, 1099]]  LogisticRegression  \n",
       "0  0.378323  [[11620, 3437], [243, 1143]]  LogisticRegression  "
      ]
     },
     "execution_count": 50,
     "metadata": {},
     "output_type": "execute_result"
    }
   ],
   "source": [
    "results = sampling_results.append(scores)\n",
    "results"
   ]
  },
  {
   "cell_type": "markdown",
   "metadata": {},
   "source": [
    "##### Observations\n",
    "***\n",
    "\n",
    "-  Above table is consolidated matrix of metrics for logistic Regression\n",
    "***"
   ]
  },
  {
   "cell_type": "markdown",
   "metadata": {},
   "source": [
    "## Random Forest\n",
    "***\n",
    "Running RandomCV to find optimal value of hyperparameters for Random Forest while applying different Over/Under sampling techniques\n",
    "***"
   ]
  },
  {
   "cell_type": "code",
   "execution_count": 18,
   "metadata": {},
   "outputs": [],
   "source": [
    "from sklearn.model_selection import RandomizedSearchCV"
   ]
  },
  {
   "cell_type": "code",
   "execution_count": 64,
   "metadata": {},
   "outputs": [],
   "source": [
    "def benchmark(sampling_type,X,y):\n",
    "    lr = RandomForestClassifier()\n",
    "    param_grid = {\n",
    "        'n_estimators': [100,150,200,300,400],\n",
    "        'bootstrap': [True, False],\n",
    "        'min_samples_leaf': [1, 2, 4],\n",
    "        'min_samples_split': [2, 5, 10],\n",
    "        'max_depth': [7,8,9,10]\n",
    "        }\n",
    "    gs = RandomizedSearchCV(estimator=lr, param_distributions=param_grid, scoring='f1', cv=5, verbose=2,n_jobs =-1)\n",
    "    gs = gs.fit(X.values,y.values.ravel())\n",
    "    return sampling_type,gs.best_score_,gs.best_params_['n_estimators'],gs.best_params_['bootstrap'],\\\n",
    "gs.best_params_['min_samples_leaf'],gs.best_params_['max_depth'],gs.best_params_['min_samples_split'] \n",
    "\n",
    "def transform(transformer,X,y):\n",
    "    print(\"Transforming {}\".format(transformer.__class__.__name__))\n",
    "    skf = StratifiedKFold(n_splits=5, random_state=0, shuffle=False)\n",
    "    \n",
    "    for train_idx, test_idx in skf.split(X,y):\n",
    "        X_resampled,y_resampled = transformer.fit_sample(X.iloc[train_idx],y.iloc[train_idx])\n",
    "    \n",
    "    return transformer.__class__.__name__,pd.DataFrame(X_resampled), pd.DataFrame(y_resampled)"
   ]
  },
  {
   "cell_type": "code",
   "execution_count": 55,
   "metadata": {},
   "outputs": [
    {
     "name": "stdout",
     "output_type": "stream",
     "text": [
      "Transforming SMOTE\n",
      "Transforming RandomOverSampler\n",
      "Transforming NearMiss\n",
      "Transforming RandomUnderSampler\n",
      "Transforming SMOTEENN\n",
      "Transforming SMOTETomek\n"
     ]
    }
   ],
   "source": [
    "datasets = []\n",
    "datasets.append((\"base\",X_train,y_train))\n",
    "datasets.append(transform(SMOTE(n_jobs=-1),X_train,y_train))\n",
    "datasets.append(transform(RandomOverSampler(),X_train,y_train))\n",
    "#datasets.append(transform(ClusterCentroids(n_jobs=-1),X_train,y_train))\n",
    "datasets.append(transform(NearMiss(n_jobs=-1),X_train,y_train))\n",
    "datasets.append(transform(RandomUnderSampler(),X_train,y_train))\n",
    "datasets.append(transform(SMOTEENN(),X_train,y_train))\n",
    "datasets.append(transform(SMOTETomek(),X_train,y_train))"
   ]
  },
  {
   "cell_type": "code",
   "execution_count": 65,
   "metadata": {},
   "outputs": [
    {
     "name": "stdout",
     "output_type": "stream",
     "text": [
      "______________________________________________________________\n",
      "base\n",
      "Fitting 5 folds for each of 10 candidates, totalling 50 fits\n"
     ]
    },
    {
     "name": "stderr",
     "output_type": "stream",
     "text": [
      "[Parallel(n_jobs=-1)]: Using backend LokyBackend with 80 concurrent workers.\n",
      "[Parallel(n_jobs=-1)]: Done  21 out of  50 | elapsed:   14.3s remaining:   19.8s\n",
      "[Parallel(n_jobs=-1)]: Done  47 out of  50 | elapsed:   15.3s remaining:    1.0s\n",
      "[Parallel(n_jobs=-1)]: Done  50 out of  50 | elapsed:   15.6s finished\n"
     ]
    },
    {
     "name": "stdout",
     "output_type": "stream",
     "text": [
      "______________________________________________________________\n",
      "______________________________________________________________\n",
      "SMOTE\n",
      "Fitting 5 folds for each of 10 candidates, totalling 50 fits\n"
     ]
    },
    {
     "name": "stderr",
     "output_type": "stream",
     "text": [
      "[Parallel(n_jobs=-1)]: Using backend LokyBackend with 80 concurrent workers.\n",
      "[Parallel(n_jobs=-1)]: Done  21 out of  50 | elapsed:   34.6s remaining:   47.8s\n",
      "[Parallel(n_jobs=-1)]: Done  47 out of  50 | elapsed:   38.4s remaining:    2.5s\n",
      "[Parallel(n_jobs=-1)]: Done  50 out of  50 | elapsed:   38.7s finished\n"
     ]
    },
    {
     "name": "stdout",
     "output_type": "stream",
     "text": [
      "______________________________________________________________\n",
      "______________________________________________________________\n",
      "RandomOverSampler\n",
      "Fitting 5 folds for each of 10 candidates, totalling 50 fits\n"
     ]
    },
    {
     "name": "stderr",
     "output_type": "stream",
     "text": [
      "[Parallel(n_jobs=-1)]: Using backend LokyBackend with 80 concurrent workers.\n",
      "[Parallel(n_jobs=-1)]: Done  21 out of  50 | elapsed:   22.1s remaining:   30.5s\n",
      "[Parallel(n_jobs=-1)]: Done  47 out of  50 | elapsed:   26.2s remaining:    1.7s\n",
      "[Parallel(n_jobs=-1)]: Done  50 out of  50 | elapsed:   26.2s finished\n"
     ]
    },
    {
     "name": "stdout",
     "output_type": "stream",
     "text": [
      "______________________________________________________________\n",
      "______________________________________________________________\n",
      "NearMiss\n",
      "Fitting 5 folds for each of 10 candidates, totalling 50 fits\n"
     ]
    },
    {
     "name": "stderr",
     "output_type": "stream",
     "text": [
      "[Parallel(n_jobs=-1)]: Using backend LokyBackend with 80 concurrent workers.\n",
      "[Parallel(n_jobs=-1)]: Done  21 out of  50 | elapsed:    1.0s remaining:    1.3s\n",
      "[Parallel(n_jobs=-1)]: Done  47 out of  50 | elapsed:    1.7s remaining:    0.1s\n",
      "[Parallel(n_jobs=-1)]: Done  50 out of  50 | elapsed:    1.8s finished\n"
     ]
    },
    {
     "name": "stdout",
     "output_type": "stream",
     "text": [
      "______________________________________________________________\n",
      "______________________________________________________________\n",
      "RandomUnderSampler\n",
      "Fitting 5 folds for each of 10 candidates, totalling 50 fits\n"
     ]
    },
    {
     "name": "stderr",
     "output_type": "stream",
     "text": [
      "[Parallel(n_jobs=-1)]: Using backend LokyBackend with 80 concurrent workers.\n",
      "[Parallel(n_jobs=-1)]: Done  21 out of  50 | elapsed:    1.9s remaining:    2.6s\n",
      "[Parallel(n_jobs=-1)]: Done  47 out of  50 | elapsed:    2.3s remaining:    0.1s\n",
      "[Parallel(n_jobs=-1)]: Done  50 out of  50 | elapsed:    2.5s finished\n"
     ]
    },
    {
     "name": "stdout",
     "output_type": "stream",
     "text": [
      "______________________________________________________________\n",
      "______________________________________________________________\n",
      "SMOTEENN\n",
      "Fitting 5 folds for each of 10 candidates, totalling 50 fits\n"
     ]
    },
    {
     "name": "stderr",
     "output_type": "stream",
     "text": [
      "[Parallel(n_jobs=-1)]: Using backend LokyBackend with 80 concurrent workers.\n",
      "[Parallel(n_jobs=-1)]: Done  21 out of  50 | elapsed:   20.6s remaining:   28.4s\n",
      "[Parallel(n_jobs=-1)]: Done  47 out of  50 | elapsed:   25.1s remaining:    1.6s\n",
      "[Parallel(n_jobs=-1)]: Done  50 out of  50 | elapsed:   25.3s finished\n"
     ]
    },
    {
     "name": "stdout",
     "output_type": "stream",
     "text": [
      "______________________________________________________________\n",
      "______________________________________________________________\n",
      "SMOTETomek\n",
      "Fitting 5 folds for each of 10 candidates, totalling 50 fits\n"
     ]
    },
    {
     "name": "stderr",
     "output_type": "stream",
     "text": [
      "[Parallel(n_jobs=-1)]: Using backend LokyBackend with 80 concurrent workers.\n",
      "[Parallel(n_jobs=-1)]: Done  21 out of  50 | elapsed:   40.2s remaining:   55.4s\n",
      "[Parallel(n_jobs=-1)]: Done  47 out of  50 | elapsed:   42.8s remaining:    2.7s\n",
      "[Parallel(n_jobs=-1)]: Done  50 out of  50 | elapsed:   43.0s finished\n"
     ]
    },
    {
     "name": "stdout",
     "output_type": "stream",
     "text": [
      "______________________________________________________________\n"
     ]
    }
   ],
   "source": [
    "benchmark_scores = []\n",
    "for sample_type,X,y in datasets:\n",
    "    print('______________________________________________________________')\n",
    "    print('{}'.format(sample_type))\n",
    "    benchmark_scores.append(benchmark(sample_type,X,y))\n",
    "    print('______________________________________________________________')\n",
    "    "
   ]
  },
  {
   "cell_type": "code",
   "execution_count": 66,
   "metadata": {},
   "outputs": [
    {
     "data": {
      "text/plain": [
       "[('base', 0.49379030015116865, 200, False, 1, 10, 10),\n",
       " ('SMOTE', 0.907273722332845, 400, False, 1, 10, 10),\n",
       " ('RandomOverSampler', 0.865962847226211, 150, False, 1, 10, 2),\n",
       " ('NearMiss', 0.750289128349985, 200, True, 4, 8, 10),\n",
       " ('RandomUnderSampler', 0.8353458312792118, 400, True, 1, 9, 10),\n",
       " ('SMOTEENN', 0.9485403209370858, 150, False, 2, 10, 5),\n",
       " ('SMOTETomek', 0.9058433631975363, 400, False, 4, 10, 10)]"
      ]
     },
     "execution_count": 66,
     "metadata": {},
     "output_type": "execute_result"
    }
   ],
   "source": [
    "benchmark_scores"
   ]
  },
  {
   "cell_type": "code",
   "execution_count": 69,
   "metadata": {},
   "outputs": [
    {
     "name": "stdout",
     "output_type": "stream",
     "text": [
      "Training on base\n"
     ]
    },
    {
     "name": "stderr",
     "output_type": "stream",
     "text": [
      "/home/bhbhan/.conda/envs/newron_clone/lib/python3.6/site-packages/sklearn/metrics/ranking.py:104: DeprecationWarning: The 'reorder' parameter has been deprecated in version 0.20 and will be removed in 0.22. It is recommended not to set 'reorder' and ensure that x is monotonic increasing or monotonic decreasing.\n",
      "  DeprecationWarning)\n"
     ]
    },
    {
     "name": "stdout",
     "output_type": "stream",
     "text": [
      "Training on SMOTE\n"
     ]
    },
    {
     "name": "stderr",
     "output_type": "stream",
     "text": [
      "/home/bhbhan/.conda/envs/newron_clone/lib/python3.6/site-packages/sklearn/metrics/ranking.py:104: DeprecationWarning: The 'reorder' parameter has been deprecated in version 0.20 and will be removed in 0.22. It is recommended not to set 'reorder' and ensure that x is monotonic increasing or monotonic decreasing.\n",
      "  DeprecationWarning)\n"
     ]
    },
    {
     "name": "stdout",
     "output_type": "stream",
     "text": [
      "Training on RandomOverSampler\n"
     ]
    },
    {
     "name": "stderr",
     "output_type": "stream",
     "text": [
      "/home/bhbhan/.conda/envs/newron_clone/lib/python3.6/site-packages/sklearn/metrics/ranking.py:104: DeprecationWarning: The 'reorder' parameter has been deprecated in version 0.20 and will be removed in 0.22. It is recommended not to set 'reorder' and ensure that x is monotonic increasing or monotonic decreasing.\n",
      "  DeprecationWarning)\n"
     ]
    },
    {
     "name": "stdout",
     "output_type": "stream",
     "text": [
      "Training on NearMiss\n"
     ]
    },
    {
     "name": "stderr",
     "output_type": "stream",
     "text": [
      "/home/bhbhan/.conda/envs/newron_clone/lib/python3.6/site-packages/sklearn/metrics/ranking.py:104: DeprecationWarning: The 'reorder' parameter has been deprecated in version 0.20 and will be removed in 0.22. It is recommended not to set 'reorder' and ensure that x is monotonic increasing or monotonic decreasing.\n",
      "  DeprecationWarning)\n"
     ]
    },
    {
     "name": "stdout",
     "output_type": "stream",
     "text": [
      "Training on RandomUnderSampler\n"
     ]
    },
    {
     "name": "stderr",
     "output_type": "stream",
     "text": [
      "/home/bhbhan/.conda/envs/newron_clone/lib/python3.6/site-packages/sklearn/metrics/ranking.py:104: DeprecationWarning: The 'reorder' parameter has been deprecated in version 0.20 and will be removed in 0.22. It is recommended not to set 'reorder' and ensure that x is monotonic increasing or monotonic decreasing.\n",
      "  DeprecationWarning)\n"
     ]
    },
    {
     "name": "stdout",
     "output_type": "stream",
     "text": [
      "Training on SMOTEENN\n"
     ]
    },
    {
     "name": "stderr",
     "output_type": "stream",
     "text": [
      "/home/bhbhan/.conda/envs/newron_clone/lib/python3.6/site-packages/sklearn/metrics/ranking.py:104: DeprecationWarning: The 'reorder' parameter has been deprecated in version 0.20 and will be removed in 0.22. It is recommended not to set 'reorder' and ensure that x is monotonic increasing or monotonic decreasing.\n",
      "  DeprecationWarning)\n"
     ]
    },
    {
     "name": "stdout",
     "output_type": "stream",
     "text": [
      "Training on SMOTETomek\n"
     ]
    },
    {
     "name": "stderr",
     "output_type": "stream",
     "text": [
      "/home/bhbhan/.conda/envs/newron_clone/lib/python3.6/site-packages/sklearn/metrics/ranking.py:104: DeprecationWarning: The 'reorder' parameter has been deprecated in version 0.20 and will be removed in 0.22. It is recommended not to set 'reorder' and ensure that x is monotonic increasing or monotonic decreasing.\n",
      "  DeprecationWarning)\n"
     ]
    }
   ],
   "source": [
    "scores = []\n",
    "# train models based on benchmark params\n",
    "for sampling_type,score,n_est,n_boot,min_sample_leaf,n_dep,min_sample_split in benchmark_scores:\n",
    "    print(\"Training on {}\".format(sampling_type))\n",
    "    lr = RandomForestClassifier(n_estimators=n_est,min_samples_leaf =min_sample_leaf,bootstrap=n_boot,max_depth=n_dep,min_samples_split =min_sample_split)\n",
    "    for s_type,X,y in datasets:\n",
    "        if s_type == sampling_type:\n",
    "            lr.fit(X.values,y.values.ravel())\n",
    "            pred_test = lr.predict(X_valid.values)\n",
    "            pred_test_probs = lr.predict_proba(X_valid.values)\n",
    "            #probs = lr.decision_function(X_test.values)\n",
    "            fpr, tpr, thresholds = roc_curve(y_valid.values.ravel(),pred_test)\n",
    "            #p,r,t = precision_recall_curve(y_test.values.ravel(),probs)\n",
    "            scores.append((sampling_type,\n",
    "                           f1_score(y_valid.values.ravel(),pred_test),\n",
    "                           precision_score(y_valid.values.ravel(),pred_test),\n",
    "                           recall_score(y_valid.values.ravel(),pred_test),\n",
    "                           accuracy_score(y_valid.values.ravel(),pred_test),\n",
    "                           auc(fpr, tpr),\n",
    "                           auc(p,r,reorder=True),\n",
    "                           confusion_matrix(y_valid.values.ravel(),pred_test)))\n",
    "            scores1 = pd.DataFrame(scores,columns=['Sampling Type','f1','precision','recall','accuracy','auc_roc','auc_pr',\\\n",
    "                                      'confusion_matrix'])\n",
    "            scores1['Model']='RandomForest'\n",
    "            "
   ]
  },
  {
   "cell_type": "code",
   "execution_count": 70,
   "metadata": {},
   "outputs": [
    {
     "data": {
      "text/html": [
       "<div>\n",
       "<style scoped>\n",
       "    .dataframe tbody tr th:only-of-type {\n",
       "        vertical-align: middle;\n",
       "    }\n",
       "\n",
       "    .dataframe tbody tr th {\n",
       "        vertical-align: top;\n",
       "    }\n",
       "\n",
       "    .dataframe thead th {\n",
       "        text-align: right;\n",
       "    }\n",
       "</style>\n",
       "<table border=\"1\" class=\"dataframe\">\n",
       "  <thead>\n",
       "    <tr style=\"text-align: right;\">\n",
       "      <th></th>\n",
       "      <th>Sampling Type</th>\n",
       "      <th>f1</th>\n",
       "      <th>precision</th>\n",
       "      <th>recall</th>\n",
       "      <th>accuracy</th>\n",
       "      <th>auc_roc</th>\n",
       "      <th>auc_pr</th>\n",
       "      <th>confusion_matrix</th>\n",
       "      <th>Model</th>\n",
       "    </tr>\n",
       "  </thead>\n",
       "  <tbody>\n",
       "    <tr>\n",
       "      <th>0</th>\n",
       "      <td>base</td>\n",
       "      <td>0.400435</td>\n",
       "      <td>0.814159</td>\n",
       "      <td>0.265512</td>\n",
       "      <td>0.932981</td>\n",
       "      <td>0.629967</td>\n",
       "      <td>0.443001</td>\n",
       "      <td>[[14973, 84], [1018, 368]]</td>\n",
       "      <td>LogisticRegression</td>\n",
       "    </tr>\n",
       "    <tr>\n",
       "      <th>1</th>\n",
       "      <td>SMOTE</td>\n",
       "      <td>0.389312</td>\n",
       "      <td>0.257913</td>\n",
       "      <td>0.793651</td>\n",
       "      <td>0.790123</td>\n",
       "      <td>0.791725</td>\n",
       "      <td>0.386894</td>\n",
       "      <td>[[11892, 3165], [286, 1100]]</td>\n",
       "      <td>LogisticRegression</td>\n",
       "    </tr>\n",
       "    <tr>\n",
       "      <th>2</th>\n",
       "      <td>RandomOverSampler</td>\n",
       "      <td>0.380391</td>\n",
       "      <td>0.248132</td>\n",
       "      <td>0.814574</td>\n",
       "      <td>0.776318</td>\n",
       "      <td>0.793686</td>\n",
       "      <td>0.375850</td>\n",
       "      <td>[[11636, 3421], [257, 1129]]</td>\n",
       "      <td>LogisticRegression</td>\n",
       "    </tr>\n",
       "    <tr>\n",
       "      <th>3</th>\n",
       "      <td>NearMiss</td>\n",
       "      <td>0.147048</td>\n",
       "      <td>0.081820</td>\n",
       "      <td>0.725108</td>\n",
       "      <td>0.290944</td>\n",
       "      <td>0.488044</td>\n",
       "      <td>0.172442</td>\n",
       "      <td>[[3779, 11278], [381, 1005]]</td>\n",
       "      <td>LogisticRegression</td>\n",
       "    </tr>\n",
       "    <tr>\n",
       "      <th>4</th>\n",
       "      <td>RandomUnderSampler</td>\n",
       "      <td>0.358168</td>\n",
       "      <td>0.227149</td>\n",
       "      <td>0.846320</td>\n",
       "      <td>0.744329</td>\n",
       "      <td>0.790630</td>\n",
       "      <td>0.359851</td>\n",
       "      <td>[[11066, 3991], [213, 1173]]</td>\n",
       "      <td>LogisticRegression</td>\n",
       "    </tr>\n",
       "    <tr>\n",
       "      <th>5</th>\n",
       "      <td>SMOTEENN</td>\n",
       "      <td>0.358303</td>\n",
       "      <td>0.223739</td>\n",
       "      <td>0.898990</td>\n",
       "      <td>0.728578</td>\n",
       "      <td>0.805940</td>\n",
       "      <td>0.342146</td>\n",
       "      <td>[[10734, 4323], [140, 1246]]</td>\n",
       "      <td>LogisticRegression</td>\n",
       "    </tr>\n",
       "    <tr>\n",
       "      <th>6</th>\n",
       "      <td>SMOTETomek</td>\n",
       "      <td>0.389924</td>\n",
       "      <td>0.258527</td>\n",
       "      <td>0.792929</td>\n",
       "      <td>0.790853</td>\n",
       "      <td>0.791796</td>\n",
       "      <td>0.385489</td>\n",
       "      <td>[[11905, 3152], [287, 1099]]</td>\n",
       "      <td>LogisticRegression</td>\n",
       "    </tr>\n",
       "    <tr>\n",
       "      <th>7</th>\n",
       "      <td>weighted_base</td>\n",
       "      <td>0.383171</td>\n",
       "      <td>0.249563</td>\n",
       "      <td>0.824675</td>\n",
       "      <td>0.776197</td>\n",
       "      <td>0.798205</td>\n",
       "      <td>0.378323</td>\n",
       "      <td>[[11620, 3437], [243, 1143]]</td>\n",
       "      <td>LogisticRegression</td>\n",
       "    </tr>\n",
       "    <tr>\n",
       "      <th>8</th>\n",
       "      <td>base</td>\n",
       "      <td>0.520085</td>\n",
       "      <td>0.972332</td>\n",
       "      <td>0.354978</td>\n",
       "      <td>0.944779</td>\n",
       "      <td>0.677024</td>\n",
       "      <td>0.378323</td>\n",
       "      <td>[[15043, 14], [894, 492]]</td>\n",
       "      <td>RandomForest</td>\n",
       "    </tr>\n",
       "    <tr>\n",
       "      <th>9</th>\n",
       "      <td>SMOTE</td>\n",
       "      <td>0.415601</td>\n",
       "      <td>0.294918</td>\n",
       "      <td>0.703463</td>\n",
       "      <td>0.833242</td>\n",
       "      <td>0.774326</td>\n",
       "      <td>0.378323</td>\n",
       "      <td>[[12726, 2331], [411, 975]]</td>\n",
       "      <td>RandomForest</td>\n",
       "    </tr>\n",
       "    <tr>\n",
       "      <th>10</th>\n",
       "      <td>RandomOverSampler</td>\n",
       "      <td>0.379400</td>\n",
       "      <td>0.241063</td>\n",
       "      <td>0.890332</td>\n",
       "      <td>0.754485</td>\n",
       "      <td>0.816156</td>\n",
       "      <td>0.378323</td>\n",
       "      <td>[[11172, 3885], [152, 1234]]</td>\n",
       "      <td>RandomForest</td>\n",
       "    </tr>\n",
       "    <tr>\n",
       "      <th>11</th>\n",
       "      <td>NearMiss</td>\n",
       "      <td>0.158063</td>\n",
       "      <td>0.089139</td>\n",
       "      <td>0.696970</td>\n",
       "      <td>0.374141</td>\n",
       "      <td>0.520697</td>\n",
       "      <td>0.378323</td>\n",
       "      <td>[[5186, 9871], [420, 966]]</td>\n",
       "      <td>RandomForest</td>\n",
       "    </tr>\n",
       "    <tr>\n",
       "      <th>12</th>\n",
       "      <td>RandomUnderSampler</td>\n",
       "      <td>0.366538</td>\n",
       "      <td>0.228379</td>\n",
       "      <td>0.927850</td>\n",
       "      <td>0.729672</td>\n",
       "      <td>0.819640</td>\n",
       "      <td>0.378323</td>\n",
       "      <td>[[10712, 4345], [100, 1286]]</td>\n",
       "      <td>RandomForest</td>\n",
       "    </tr>\n",
       "    <tr>\n",
       "      <th>13</th>\n",
       "      <td>SMOTEENN</td>\n",
       "      <td>0.369336</td>\n",
       "      <td>0.232554</td>\n",
       "      <td>0.896825</td>\n",
       "      <td>0.741835</td>\n",
       "      <td>0.812197</td>\n",
       "      <td>0.378323</td>\n",
       "      <td>[[10955, 4102], [143, 1243]]</td>\n",
       "      <td>RandomForest</td>\n",
       "    </tr>\n",
       "    <tr>\n",
       "      <th>14</th>\n",
       "      <td>SMOTETomek</td>\n",
       "      <td>0.419764</td>\n",
       "      <td>0.298868</td>\n",
       "      <td>0.704906</td>\n",
       "      <td>0.835736</td>\n",
       "      <td>0.776342</td>\n",
       "      <td>0.378323</td>\n",
       "      <td>[[12765, 2292], [409, 977]]</td>\n",
       "      <td>RandomForest</td>\n",
       "    </tr>\n",
       "  </tbody>\n",
       "</table>\n",
       "</div>"
      ],
      "text/plain": [
       "         Sampling Type        f1  precision    recall  accuracy   auc_roc  \\\n",
       "0                 base  0.400435   0.814159  0.265512  0.932981  0.629967   \n",
       "1                SMOTE  0.389312   0.257913  0.793651  0.790123  0.791725   \n",
       "2    RandomOverSampler  0.380391   0.248132  0.814574  0.776318  0.793686   \n",
       "3             NearMiss  0.147048   0.081820  0.725108  0.290944  0.488044   \n",
       "4   RandomUnderSampler  0.358168   0.227149  0.846320  0.744329  0.790630   \n",
       "5             SMOTEENN  0.358303   0.223739  0.898990  0.728578  0.805940   \n",
       "6           SMOTETomek  0.389924   0.258527  0.792929  0.790853  0.791796   \n",
       "7        weighted_base  0.383171   0.249563  0.824675  0.776197  0.798205   \n",
       "8                 base  0.520085   0.972332  0.354978  0.944779  0.677024   \n",
       "9                SMOTE  0.415601   0.294918  0.703463  0.833242  0.774326   \n",
       "10   RandomOverSampler  0.379400   0.241063  0.890332  0.754485  0.816156   \n",
       "11            NearMiss  0.158063   0.089139  0.696970  0.374141  0.520697   \n",
       "12  RandomUnderSampler  0.366538   0.228379  0.927850  0.729672  0.819640   \n",
       "13            SMOTEENN  0.369336   0.232554  0.896825  0.741835  0.812197   \n",
       "14          SMOTETomek  0.419764   0.298868  0.704906  0.835736  0.776342   \n",
       "\n",
       "      auc_pr              confusion_matrix               Model  \n",
       "0   0.443001    [[14973, 84], [1018, 368]]  LogisticRegression  \n",
       "1   0.386894  [[11892, 3165], [286, 1100]]  LogisticRegression  \n",
       "2   0.375850  [[11636, 3421], [257, 1129]]  LogisticRegression  \n",
       "3   0.172442  [[3779, 11278], [381, 1005]]  LogisticRegression  \n",
       "4   0.359851  [[11066, 3991], [213, 1173]]  LogisticRegression  \n",
       "5   0.342146  [[10734, 4323], [140, 1246]]  LogisticRegression  \n",
       "6   0.385489  [[11905, 3152], [287, 1099]]  LogisticRegression  \n",
       "7   0.378323  [[11620, 3437], [243, 1143]]  LogisticRegression  \n",
       "8   0.378323     [[15043, 14], [894, 492]]        RandomForest  \n",
       "9   0.378323   [[12726, 2331], [411, 975]]        RandomForest  \n",
       "10  0.378323  [[11172, 3885], [152, 1234]]        RandomForest  \n",
       "11  0.378323    [[5186, 9871], [420, 966]]        RandomForest  \n",
       "12  0.378323  [[10712, 4345], [100, 1286]]        RandomForest  \n",
       "13  0.378323  [[10955, 4102], [143, 1243]]        RandomForest  \n",
       "14  0.378323   [[12765, 2292], [409, 977]]        RandomForest  "
      ]
     },
     "execution_count": 70,
     "metadata": {},
     "output_type": "execute_result"
    }
   ],
   "source": [
    "results = pd.concat([results,scores1])\n",
    "results.drop_duplicates(subset=['Model','Sampling Type'],keep='first').reset_index(drop=True)"
   ]
  },
  {
   "cell_type": "markdown",
   "metadata": {},
   "source": [
    "##### Observations:\n",
    "***\n",
    "-  Consoldated list of evauation metric for Logistic Regression & Random Forest.\n",
    "-  Random Forest base accuracy is highest with decent precision & recall followed by Random Forest + SMOTE\n",
    "***"
   ]
  },
  {
   "cell_type": "code",
   "execution_count": 73,
   "metadata": {},
   "outputs": [
    {
     "name": "stdout",
     "output_type": "stream",
     "text": [
      "____________________________________________________________________________________________________ \n",
      "\n",
      "The accuracy of the Random Forest is 0.9445964848263699\n",
      "____________________________________________________________________________________________________ \n",
      "\n",
      "The F1 of the Random Forest is 0.5172231054583996\n",
      "____________________________________________________________________________________________________ \n",
      "\n",
      "              precision    recall  f1-score   support\n",
      "\n",
      "         0.0       0.94      1.00      0.97     15057\n",
      "         1.0       0.97      0.35      0.52      1386\n",
      "\n",
      "   micro avg       0.94      0.94      0.94     16443\n",
      "   macro avg       0.96      0.68      0.74     16443\n",
      "weighted avg       0.95      0.94      0.93     16443\n",
      "\n",
      "____________________________________________________________________________________________________\n"
     ]
    },
    {
     "data": {
      "image/png": "[encoded data removed]",
      "text/plain": [
       "<Figure size 432x288 with 2 Axes>"
      ]
     },
     "metadata": {
      "needs_background": "light"
     },
     "output_type": "display_data"
    }
   ],
   "source": [
    "model = RandomForestClassifier(n_estimators=400,\n",
    "    min_samples_leaf=1,bootstrap=False,max_depth=10,min_samples_split=10)\n",
    "model.fit(X_train,y_train)\n",
    "prediction1=model.predict(X_valid)\n",
    "print(\"__\"*50,\"\\n\")\n",
    "print('The accuracy of the Random Forest is',metrics.accuracy_score(y_valid,prediction1))\n",
    "print(\"__\"*50,\"\\n\")\n",
    "print('The F1 of the Random Forest is',metrics.f1_score(y_valid,prediction1))\n",
    "print(\"__\"*50,\"\\n\")\n",
    "print(classification_report(y_valid,prediction1))\n",
    "print(\"__\"*50)\n",
    "sns.heatmap(confusion_matrix(y_valid,prediction1),annot=True,fmt=\"d\")\n",
    "plt.xlabel('Predicted')\n",
    "plt.ylabel('Actual')\n",
    "plt.title('Confusion Matrix')\n",
    "plt.show()"
   ]
  },
  {
   "cell_type": "markdown",
   "metadata": {},
   "source": [
    "##### Observations\n",
    "***\n",
    "-  Trying Random Forest + SMOTE method\n",
    "***"
   ]
  },
  {
   "cell_type": "code",
   "execution_count": 74,
   "metadata": {},
   "outputs": [
    {
     "name": "stdout",
     "output_type": "stream",
     "text": [
      "____________________________________________________________________________________________________ \n",
      "\n",
      "The accuracy of the Random Forest is 0.8640758985586572\n",
      "____________________________________________________________________________________________________ \n",
      "\n",
      "The F1 of the Random Forest is 0.44111027756939236\n",
      "____________________________________________________________________________________________________ \n",
      "\n",
      "              precision    recall  f1-score   support\n",
      "\n",
      "         0.0       0.96      0.89      0.92     15057\n",
      "         1.0       0.34      0.64      0.44      1386\n",
      "\n",
      "   micro avg       0.86      0.86      0.86     16443\n",
      "   macro avg       0.65      0.76      0.68     16443\n",
      "weighted avg       0.91      0.86      0.88     16443\n",
      "\n",
      "____________________________________________________________________________________________________\n"
     ]
    },
    {
     "data": {
      "image/png": "[encoded data removed]",
      "text/plain": [
       "<Figure size 432x288 with 2 Axes>"
      ]
     },
     "metadata": {
      "needs_background": "light"
     },
     "output_type": "display_data"
    }
   ],
   "source": [
    "sampler = SMOTE()\n",
    "skf = StratifiedKFold(n_splits=cv, random_state=0, shuffle=False)\n",
    "\n",
    "clf = RandomForestClassifier(n_estimators=400,\n",
    "    min_samples_leaf=1,bootstrap=False,max_depth=10,min_samples_split=10)\n",
    "\n",
    "train_idx, test_idx = skf.split(X_train,y_train).__next__()\n",
    "#print(train_idx)\n",
    "xfold_train_sampled, yfold_train_sampled = sampler.fit_sample(X.iloc[train_idx],y.iloc[train_idx])\n",
    "clf.fit(xfold_train_sampled, yfold_train_sampled)\n",
    "\n",
    "prediction1=clf.predict(X_valid)\n",
    "\n",
    "print(\"__\"*50,\"\\n\")\n",
    "print('The accuracy of the Random Forest is',metrics.accuracy_score(y_valid,prediction1))\n",
    "print(\"__\"*50,\"\\n\")\n",
    "print('The F1 of the Random Forest is',metrics.f1_score(y_valid,prediction1))\n",
    "print(\"__\"*50,\"\\n\")\n",
    "print(classification_report(y_valid,prediction1))\n",
    "print(\"__\"*50)\n",
    "sns.heatmap(confusion_matrix(y_valid,prediction1),annot=True,fmt=\"d\")\n",
    "plt.xlabel('Predicted')\n",
    "plt.ylabel('Actual')\n",
    "plt.title('Confusion Matrix')\n",
    "plt.show()"
   ]
  },
  {
   "cell_type": "markdown",
   "metadata": {},
   "source": [
    "##### Observations\n",
    "***\n",
    "- Base Random Forest works well\n",
    "***"
   ]
  },
  {
   "cell_type": "code",
   "execution_count": 78,
   "metadata": {},
   "outputs": [
    {
     "data": {
      "image/png": "[encoded data removed]",
      "text/plain": [
       "<Figure size 432x288 with 1 Axes>"
      ]
     },
     "metadata": {
      "needs_background": "light"
     },
     "output_type": "display_data"
    }
   ],
   "source": [
    "importances = clf.feature_importances_\n",
    "indices = np.argsort(importances)\n",
    "\n",
    "features = X_valid.columns\n",
    "plt.title('Feature Importances')\n",
    "plt.barh(range(len(indices)), importances[indices], color='b', align='center')\n",
    "plt.yticks(range(len(indices)), features[indices])\n",
    "plt.xlabel('Relative Importance')\n",
    "plt.show()"
   ]
  },
  {
   "cell_type": "markdown",
   "metadata": {},
   "source": [
    "### XGBoost"
   ]
  },
  {
   "cell_type": "code",
   "execution_count": 14,
   "metadata": {},
   "outputs": [],
   "source": [
    "from xgboost import XGBClassifier"
   ]
  },
  {
   "cell_type": "code",
   "execution_count": 15,
   "metadata": {},
   "outputs": [],
   "source": [
    "def benchmark(sampling_type,X,y):\n",
    "    lr = XGBClassifier()\n",
    "    param_grid = {\n",
    "        'n_estimators': [10,50,100,150,200,300],\n",
    "        'min_child_weight': [3,4],\n",
    "        'gamma':  [0],\n",
    "        'subsample': [ 0.7, 0.8],\n",
    "        'colsample_bytree': [ 0.7, 0.8],\n",
    "        'max_depth': [7,8],\n",
    "        'learning_rate' : [ 0.05, 0.1]\n",
    "        }\n",
    "    gs = RandomizedSearchCV(estimator=lr, param_distributions=param_grid, scoring='f1', cv=5, verbose=2,n_jobs =-1)\n",
    "    gs = gs.fit(X.values,y.values.ravel())\n",
    "    return sampling_type,gs.best_score_,gs.best_params_['n_estimators'],gs.best_params_['min_child_weight'],\\\n",
    "gs.best_params_['gamma'],gs.best_params_['subsample'],gs.best_params_['colsample_bytree'],gs.best_params_['max_depth'],gs.best_params_['learning_rate'], \n",
    "\n",
    "def transform(transformer,X,y):\n",
    "    print(\"Transforming {}\".format(transformer.__class__.__name__))\n",
    "    skf = StratifiedKFold(n_splits=5, random_state=0, shuffle=False)\n",
    "    \n",
    "    for train_idx, test_idx in skf.split(X,y):\n",
    "        X_resampled,y_resampled = transformer.fit_sample(X.iloc[train_idx],y.iloc[train_idx])\n",
    "    \n",
    "    return transformer.__class__.__name__,pd.DataFrame(X_resampled), pd.DataFrame(y_resampled)"
   ]
  },
  {
   "cell_type": "code",
   "execution_count": 16,
   "metadata": {},
   "outputs": [
    {
     "name": "stdout",
     "output_type": "stream",
     "text": [
      "Transforming SMOTE\n",
      "Transforming RandomOverSampler\n",
      "Transforming NearMiss\n",
      "Transforming RandomUnderSampler\n",
      "Transforming SMOTEENN\n",
      "Transforming SMOTETomek\n"
     ]
    }
   ],
   "source": [
    "datasets = []\n",
    "datasets.append((\"base\",X_train,y_train))\n",
    "datasets.append(transform(SMOTE(n_jobs=-1),X_train,y_train))\n",
    "datasets.append(transform(RandomOverSampler(),X_train,y_train))\n",
    "#datasets.append(transform(ClusterCentroids(n_jobs=-1),X_train,y_train))\n",
    "datasets.append(transform(NearMiss(n_jobs=-1),X_train,y_train))\n",
    "datasets.append(transform(RandomUnderSampler(),X_train,y_train))\n",
    "datasets.append(transform(SMOTEENN(),X_train,y_train))\n",
    "datasets.append(transform(SMOTETomek(),X_train,y_train))"
   ]
  },
  {
   "cell_type": "code",
   "execution_count": 19,
   "metadata": {},
   "outputs": [
    {
     "name": "stdout",
     "output_type": "stream",
     "text": [
      "______________________________________________________________\n",
      "base\n",
      "Fitting 5 folds for each of 10 candidates, totalling 50 fits\n"
     ]
    },
    {
     "name": "stderr",
     "output_type": "stream",
     "text": [
      "[Parallel(n_jobs=-1)]: Using backend LokyBackend with 80 concurrent workers.\n",
      "[Parallel(n_jobs=-1)]: Done  21 out of  50 | elapsed:   24.5s remaining:   33.8s\n",
      "[Parallel(n_jobs=-1)]: Done  47 out of  50 | elapsed:   42.1s remaining:    2.7s\n",
      "[Parallel(n_jobs=-1)]: Done  50 out of  50 | elapsed:   43.3s finished\n"
     ]
    },
    {
     "name": "stdout",
     "output_type": "stream",
     "text": [
      "______________________________________________________________\n",
      "______________________________________________________________\n",
      "SMOTE\n",
      "Fitting 5 folds for each of 10 candidates, totalling 50 fits\n"
     ]
    },
    {
     "name": "stderr",
     "output_type": "stream",
     "text": [
      "[Parallel(n_jobs=-1)]: Using backend LokyBackend with 80 concurrent workers.\n",
      "[Parallel(n_jobs=-1)]: Done  21 out of  50 | elapsed:   12.5s remaining:   17.3s\n",
      "[Parallel(n_jobs=-1)]: Done  47 out of  50 | elapsed:   50.5s remaining:    3.2s\n",
      "[Parallel(n_jobs=-1)]: Done  50 out of  50 | elapsed:   51.7s finished\n"
     ]
    },
    {
     "name": "stdout",
     "output_type": "stream",
     "text": [
      "______________________________________________________________\n",
      "______________________________________________________________\n",
      "RandomOverSampler\n",
      "Fitting 5 folds for each of 10 candidates, totalling 50 fits\n"
     ]
    },
    {
     "name": "stderr",
     "output_type": "stream",
     "text": [
      "[Parallel(n_jobs=-1)]: Using backend LokyBackend with 80 concurrent workers.\n",
      "[Parallel(n_jobs=-1)]: Done  21 out of  50 | elapsed:   38.6s remaining:   53.3s\n",
      "[Parallel(n_jobs=-1)]: Done  47 out of  50 | elapsed:  1.2min remaining:    4.6s\n",
      "[Parallel(n_jobs=-1)]: Done  50 out of  50 | elapsed:  1.2min finished\n"
     ]
    },
    {
     "name": "stdout",
     "output_type": "stream",
     "text": [
      "______________________________________________________________\n",
      "______________________________________________________________\n",
      "NearMiss\n",
      "Fitting 5 folds for each of 10 candidates, totalling 50 fits\n"
     ]
    },
    {
     "name": "stderr",
     "output_type": "stream",
     "text": [
      "[Parallel(n_jobs=-1)]: Using backend LokyBackend with 80 concurrent workers.\n",
      "[Parallel(n_jobs=-1)]: Done  21 out of  50 | elapsed:    2.2s remaining:    3.0s\n",
      "[Parallel(n_jobs=-1)]: Done  47 out of  50 | elapsed:    5.8s remaining:    0.4s\n",
      "[Parallel(n_jobs=-1)]: Done  50 out of  50 | elapsed:    5.8s finished\n"
     ]
    },
    {
     "name": "stdout",
     "output_type": "stream",
     "text": [
      "______________________________________________________________\n",
      "______________________________________________________________\n",
      "RandomUnderSampler\n",
      "Fitting 5 folds for each of 10 candidates, totalling 50 fits\n"
     ]
    },
    {
     "name": "stderr",
     "output_type": "stream",
     "text": [
      "[Parallel(n_jobs=-1)]: Using backend LokyBackend with 80 concurrent workers.\n",
      "[Parallel(n_jobs=-1)]: Done  21 out of  50 | elapsed:    1.6s remaining:    2.2s\n",
      "[Parallel(n_jobs=-1)]: Done  47 out of  50 | elapsed:    5.1s remaining:    0.3s\n",
      "[Parallel(n_jobs=-1)]: Done  50 out of  50 | elapsed:    5.3s finished\n"
     ]
    },
    {
     "name": "stdout",
     "output_type": "stream",
     "text": [
      "______________________________________________________________\n",
      "______________________________________________________________\n",
      "SMOTEENN\n",
      "Fitting 5 folds for each of 10 candidates, totalling 50 fits\n"
     ]
    },
    {
     "name": "stderr",
     "output_type": "stream",
     "text": [
      "[Parallel(n_jobs=-1)]: Using backend LokyBackend with 80 concurrent workers.\n",
      "[Parallel(n_jobs=-1)]: Done  21 out of  50 | elapsed:   30.1s remaining:   41.6s\n",
      "[Parallel(n_jobs=-1)]: Done  47 out of  50 | elapsed:   49.8s remaining:    3.2s\n",
      "[Parallel(n_jobs=-1)]: Done  50 out of  50 | elapsed:   50.4s finished\n"
     ]
    },
    {
     "name": "stdout",
     "output_type": "stream",
     "text": [
      "______________________________________________________________\n",
      "______________________________________________________________\n",
      "SMOTETomek\n",
      "Fitting 5 folds for each of 10 candidates, totalling 50 fits\n"
     ]
    },
    {
     "name": "stderr",
     "output_type": "stream",
     "text": [
      "[Parallel(n_jobs=-1)]: Using backend LokyBackend with 80 concurrent workers.\n",
      "[Parallel(n_jobs=-1)]: Done  21 out of  50 | elapsed:   23.2s remaining:   32.0s\n",
      "[Parallel(n_jobs=-1)]: Done  47 out of  50 | elapsed:   57.8s remaining:    3.7s\n",
      "[Parallel(n_jobs=-1)]: Done  50 out of  50 | elapsed:   58.0s finished\n"
     ]
    },
    {
     "name": "stdout",
     "output_type": "stream",
     "text": [
      "______________________________________________________________\n"
     ]
    }
   ],
   "source": [
    "benchmark_scores = []\n",
    "for sample_type,X,y in datasets:\n",
    "    print('______________________________________________________________')\n",
    "    print('{}'.format(sample_type))\n",
    "    benchmark_scores.append(benchmark(sample_type,X,y))\n",
    "    print('______________________________________________________________')"
   ]
  },
  {
   "cell_type": "code",
   "execution_count": 20,
   "metadata": {},
   "outputs": [
    {
     "data": {
      "text/plain": [
       "[('base', 0.5088199158808895, 200, 3, 0, 0.7, 0.7, 8, 0.1),\n",
       " ('SMOTE', 0.9576019889515904, 200, 3, 0, 0.7, 0.8, 8, 0.1),\n",
       " ('RandomOverSampler', 0.9383475274403424, 300, 4, 0, 0.7, 0.8, 8, 0.1),\n",
       " ('NearMiss', 0.7564476024136162, 150, 4, 0, 0.7, 0.8, 7, 0.05),\n",
       " ('RandomUnderSampler', 0.8367844400264097, 50, 3, 0, 0.7, 0.7, 8, 0.05),\n",
       " ('SMOTEENN', 0.9660178282689188, 200, 3, 0, 0.8, 0.8, 8, 0.05),\n",
       " ('SMOTETomek', 0.9575849316692833, 300, 3, 0, 0.7, 0.7, 8, 0.05)]"
      ]
     },
     "execution_count": 20,
     "metadata": {},
     "output_type": "execute_result"
    }
   ],
   "source": [
    "benchmark_scores"
   ]
  },
  {
   "cell_type": "code",
   "execution_count": 24,
   "metadata": {},
   "outputs": [
    {
     "name": "stdout",
     "output_type": "stream",
     "text": [
      "Training on base\n",
      "Training on SMOTE\n",
      "Training on RandomOverSampler\n",
      "Training on NearMiss\n",
      "Training on RandomUnderSampler\n",
      "Training on SMOTEENN\n",
      "Training on SMOTETomek\n"
     ]
    }
   ],
   "source": [
    "scores = []\n",
    "# train models based on benchmark params\n",
    "for sampling_type,score,n_est,min_child_weight,gamma,subsample,colsample_bytree,max_depth,learning_rate in benchmark_scores:\n",
    "    print(\"Training on {}\".format(sampling_type))\n",
    "    lr = XGBClassifier(n_estimators=n_est,min_child_weight=min_child_weight,gamma=gamma,subsample=subsample,colsample_bytree=colsample_bytree,max_depth=max_depth,learning_rate=learning_rate)\n",
    "    for s_type,X,y in datasets:\n",
    "        if s_type == sampling_type:\n",
    "            lr.fit(X.values,y.values.ravel())\n",
    "            pred_test = lr.predict(X_valid.values)\n",
    "            pred_test_probs = lr.predict_proba(X_valid.values)\n",
    "            #probs = lr.decision_function(X_test.values)\n",
    "            fpr, tpr, thresholds = roc_curve(y_valid.values.ravel(),pred_test)\n",
    "            #p,r,t = precision_recall_curve(y_valid.values.ravel(),probs)\n",
    "            scores.append((sampling_type,\n",
    "                           f1_score(y_valid.values.ravel(),pred_test),\n",
    "                           precision_score(y_valid.values.ravel(),pred_test),\n",
    "                           recall_score(y_valid.values.ravel(),pred_test),\n",
    "                           accuracy_score(y_valid.values.ravel(),pred_test),\n",
    "                           auc(fpr, tpr),\n",
    "                           0,\n",
    "                           confusion_matrix(y_valid.values.ravel(),pred_test)))\n",
    "            scores1 = pd.DataFrame(scores,columns=['Sampling Type','f1','precision','recall','accuracy','auc_roc','auc_pr',\\\n",
    "                                      'confusion_matrix'])\n",
    "            scores1['Model']='XgBoost'\n",
    "            "
   ]
  },
  {
   "cell_type": "code",
   "execution_count": 25,
   "metadata": {},
   "outputs": [
    {
     "ename": "NameError",
     "evalue": "name 'results' is not defined",
     "output_type": "error",
     "traceback": [
      "\u001b[0;31m---------------------------------------------------------------------------\u001b[0m",
      "\u001b[0;31mNameError\u001b[0m                                 Traceback (most recent call last)",
      "\u001b[0;32m<ipython-input-25-97ddabc5beee>\u001b[0m in \u001b[0;36m<module>\u001b[0;34m\u001b[0m\n\u001b[0;32m----> 1\u001b[0;31m \u001b[0mresults\u001b[0m \u001b[0;34m=\u001b[0m \u001b[0mpd\u001b[0m\u001b[0;34m.\u001b[0m\u001b[0mconcat\u001b[0m\u001b[0;34m(\u001b[0m\u001b[0;34m[\u001b[0m\u001b[0mresults\u001b[0m\u001b[0;34m,\u001b[0m\u001b[0mscores1\u001b[0m\u001b[0;34m]\u001b[0m\u001b[0;34m)\u001b[0m\u001b[0;34m\u001b[0m\u001b[0m\n\u001b[0m\u001b[1;32m      2\u001b[0m \u001b[0mresults\u001b[0m\u001b[0;34m.\u001b[0m\u001b[0mdrop_duplicates\u001b[0m\u001b[0;34m(\u001b[0m\u001b[0msubset\u001b[0m\u001b[0;34m=\u001b[0m\u001b[0;34m[\u001b[0m\u001b[0;34m'Model'\u001b[0m\u001b[0;34m,\u001b[0m\u001b[0;34m'Sampling Type'\u001b[0m\u001b[0;34m]\u001b[0m\u001b[0;34m,\u001b[0m\u001b[0mkeep\u001b[0m\u001b[0;34m=\u001b[0m\u001b[0;34m'first'\u001b[0m\u001b[0;34m)\u001b[0m\u001b[0;34m.\u001b[0m\u001b[0mreset_index\u001b[0m\u001b[0;34m(\u001b[0m\u001b[0mdrop\u001b[0m\u001b[0;34m=\u001b[0m\u001b[0;32mTrue\u001b[0m\u001b[0;34m)\u001b[0m\u001b[0;34m\u001b[0m\u001b[0m\n",
      "\u001b[0;31mNameError\u001b[0m: name 'results' is not defined"
     ]
    }
   ],
   "source": [
    "results = pd.concat([results,scores1])\n",
    "results.drop_duplicates(subset=['Model','Sampling Type'],keep='first').reset_index(drop=True)"
   ]
  },
  {
   "cell_type": "code",
   "execution_count": 38,
   "metadata": {},
   "outputs": [
    {
     "name": "stdout",
     "output_type": "stream",
     "text": [
      "____________________________________________________________________________________________________ \n",
      "\n",
      "The accuracy of the Random Forest is 0.9433801617709664\n",
      "____________________________________________________________________________________________________ \n",
      "\n",
      "The F1 of the Random Forest is 0.5281297516472377\n",
      "____________________________________________________________________________________________________ \n",
      "\n",
      "              precision    recall  f1-score   support\n",
      "\n",
      "         0.0       0.95      1.00      0.97     15057\n",
      "         1.0       0.89      0.38      0.53      1386\n",
      "\n",
      "   micro avg       0.94      0.94      0.94     16443\n",
      "   macro avg       0.92      0.69      0.75     16443\n",
      "weighted avg       0.94      0.94      0.93     16443\n",
      "\n",
      "____________________________________________________________________________________________________\n"
     ]
    },
    {
     "data": {
      "image/png": "[encoded data removed]",
      "text/plain": [
       "<Figure size 432x288 with 2 Axes>"
      ]
     },
     "metadata": {
      "needs_background": "light"
     },
     "output_type": "display_data"
    }
   ],
   "source": [
    "model = XGBClassifier(n_estimators=200,min_child_weight=3,gamma=0,subsample=0.7,colsample_bytree=0.8,max_depth=8,learning_rate=0.1)\n",
    "model.fit(X_train,y_train)\n",
    "prediction1=model.predict(X_valid)\n",
    "print(\"__\"*50,\"\\n\")\n",
    "print('The accuracy of the Random Forest is',metrics.accuracy_score(y_valid,prediction1))\n",
    "print(\"__\"*50,\"\\n\")\n",
    "print('The F1 of the Random Forest is',metrics.f1_score(y_valid,prediction1))\n",
    "print(\"__\"*50,\"\\n\")\n",
    "print(classification_report(y_valid,prediction1))\n",
    "print(\"__\"*50)\n",
    "sns.heatmap(confusion_matrix(y_valid,prediction1),annot=True,fmt=\"d\")\n",
    "plt.xlabel('Predicted')\n",
    "plt.ylabel('Actual')\n",
    "plt.title('Confusion Matrix')\n",
    "plt.show()"
   ]
  },
  {
   "cell_type": "code",
   "execution_count": 48,
   "metadata": {},
   "outputs": [
    {
     "name": "stdout",
     "output_type": "stream",
     "text": [
      "____________________________________________________________________________________________________ \n",
      "\n",
      "The accuracy of the Random Forest is 0.941494861035091\n",
      "____________________________________________________________________________________________________ \n",
      "\n",
      "The F1 of the Random Forest is 0.5228174603174602\n",
      "____________________________________________________________________________________________________ \n",
      "\n",
      "              precision    recall  f1-score   support\n",
      "\n",
      "         0.0       0.95      0.99      0.97     15057\n",
      "         1.0       0.84      0.38      0.52      1386\n",
      "\n",
      "   micro avg       0.94      0.94      0.94     16443\n",
      "   macro avg       0.89      0.69      0.75     16443\n",
      "weighted avg       0.94      0.94      0.93     16443\n",
      "\n",
      "____________________________________________________________________________________________________\n"
     ]
    },
    {
     "data": {
      "image/png": "[encoded data removed]",
      "text/plain": [
       "<Figure size 432x288 with 2 Axes>"
      ]
     },
     "metadata": {
      "needs_background": "light"
     },
     "output_type": "display_data"
    }
   ],
   "source": [
    "sampler = SMOTE()\n",
    "skf = StratifiedKFold(n_splits=5, random_state=0, shuffle=False)\n",
    "\n",
    "clf =  XGBClassifier(n_estimators=200,min_child_weight=3,subsample=0.7,colsample_bytree=0.8,max_depth=8,learning_rate=0.1)\n",
    "\n",
    "train_idx, test_idx = skf.split(X_train,y_train).__next__()\n",
    "#print(train_idx)\n",
    "xfold_train_sampled, yfold_train_sampled = sampler.fit_sample(X.iloc[train_idx],y.iloc[train_idx])\n",
    "clf.fit(xfold_train_sampled, yfold_train_sampled)\n",
    "prediction1=clf.predict(X_valid.as_matrix())\n",
    "\n",
    "print(\"__\"*50,\"\\n\")\n",
    "print('The accuracy of the Random Forest is',metrics.accuracy_score(y_valid,prediction1))\n",
    "print(\"__\"*50,\"\\n\")\n",
    "print('The F1 of the Random Forest is',metrics.f1_score(y_valid,prediction1))\n",
    "print(\"__\"*50,\"\\n\")\n",
    "print(classification_report(y_valid,prediction1))\n",
    "print(\"__\"*50)\n",
    "sns.heatmap(confusion_matrix(y_valid,prediction1),annot=True,fmt=\"d\")\n",
    "plt.xlabel('Predicted')\n",
    "plt.ylabel('Actual')\n",
    "plt.title('Confusion Matrix')\n",
    "plt.show()"
   ]
  },
  {
   "cell_type": "code",
   "execution_count": null,
   "metadata": {},
   "outputs": [],
   "source": [
    "X_test['is_promoted']=clf.predict(X_test)\n",
    "submission=pd.read_csv(\"sample_submission.csv\")\n",
    "submission['is_promoted']=X_test['is_promoted']\n",
    "submission['is_promoted']=submission['is_promoted'].astype(int)\n",
    "submission[['employee_id','is_promoted']].to_csv(\"XGBoost_Submission4.csv\",index=False)"
   ]
  },
  {
   "cell_type": "markdown",
   "metadata": {},
   "source": [
    "### More Feature Engineering"
   ]
  },
  {
   "cell_type": "code",
   "execution_count": 49,
   "metadata": {},
   "outputs": [],
   "source": [
    "df_copy=df_full"
   ]
  },
  {
   "cell_type": "markdown",
   "metadata": {},
   "source": [
    "#### Difference between training score of individual with comapny's, dept, region, dept-region eompployees"
   ]
  },
  {
   "cell_type": "code",
   "execution_count": 51,
   "metadata": {},
   "outputs": [],
   "source": [
    "df_copy['diff_from_avg_training_score_company'] = df_copy['avg_training_score'] - df_copy['avg_training_score'].mean()\n",
    "df_copy['diff_from_avg_training_score_dept_mean'] = df_copy['avg_training_score'] - df_copy.groupby('department')['avg_training_score'].transform('mean')\n",
    "df_copy['diff_from_avg_training_score_region_mean'] = df_copy['avg_training_score'] - df_copy.groupby('region')['avg_training_score'].transform('mean')\n",
    "df_copy['diff_from_avg_training_score_dept_region_mean'] = df_copy['avg_training_score'] - df_copy.groupby(['region','department'])['avg_training_score'].transform('mean')"
   ]
  },
  {
   "cell_type": "markdown",
   "metadata": {},
   "source": [
    "#### Difference between training score of individual with gender, gender-dept, gende-region, dept-region-gender eompployees"
   ]
  },
  {
   "cell_type": "code",
   "execution_count": 52,
   "metadata": {},
   "outputs": [],
   "source": [
    "df_copy['diff_from_avg_training_score_gender_mean'] = df_copy['avg_training_score'] - df_copy.groupby('gender')['avg_training_score'].transform('mean')\n",
    "df_copy['diff_from_avg_training_score_gender_region_mean'] = df_copy['avg_training_score'] - df_copy.groupby(['gender','region'])['avg_training_score'].transform('mean')\n",
    "df_copy['diff_from_avg_training_score_gender_dept_mean'] = df_copy['avg_training_score'] - df_copy.groupby(['department','gender'])['avg_training_score'].transform('mean')\n",
    "df_copy['diff_from_avg_training_score_dept_gender_region_dept_mean'] = df_copy['avg_training_score'] - df_copy.groupby(['region','gender','department'])['avg_training_score'].transform('mean')"
   ]
  },
  {
   "cell_type": "markdown",
   "metadata": {},
   "source": [
    "#### converting age into categories of probable titles"
   ]
  },
  {
   "cell_type": "code",
   "execution_count": 53,
   "metadata": {},
   "outputs": [],
   "source": [
    "df_copy['age_by_position'] = pd.cut(x=df_copy['age'], bins=[0,25, 35, 40, 45,55,100], labels=['Very Young', 'Mid level', 'senior','lead','director','board'])"
   ]
  },
  {
   "cell_type": "markdown",
   "metadata": {},
   "source": [
    "#### Difference between training score of individual with age, age-dept, age-region, age-dept-region eompployees"
   ]
  },
  {
   "cell_type": "code",
   "execution_count": 54,
   "metadata": {},
   "outputs": [],
   "source": [
    "df_copy['diff_from_avg_training_score_age_mean'] = df_copy['avg_training_score'] - df_copy.groupby('age_by_position')['avg_training_score'].transform('mean')\n",
    "df_copy['diff_from_avg_training_score_age_region_mean'] = df_copy['avg_training_score'] - df_copy.groupby(['age_by_position','region'])['avg_training_score'].transform('mean')\n",
    "df_copy['diff_from_avg_training_score_age_dept_mean'] = df_copy['avg_training_score'] - df_copy.groupby(['department','age_by_position'])['avg_training_score'].transform('mean')\n",
    "df_copy['diff_from_avg_training_score_dept_age_region_dept_mean'] = df_copy['avg_training_score'] - df_copy.groupby(['region','age_by_position','department'])['avg_training_score'].transform('mean')"
   ]
  },
  {
   "cell_type": "markdown",
   "metadata": {},
   "source": [
    "#### Difference between no. of trainings of individual with comapny's, dept, region, dept-region eompployees"
   ]
  },
  {
   "cell_type": "code",
   "execution_count": 55,
   "metadata": {},
   "outputs": [],
   "source": [
    "df_copy['diff_from_no_of_trainings_company'] = df_copy['no_of_trainings'] - df_copy['no_of_trainings'].mean()\n",
    "df_copy['diff_from_no_of_trainings_dept_mean'] = df_copy['no_of_trainings'] - df_copy.groupby('department')['no_of_trainings'].transform('mean')\n",
    "df_copy['diff_from_no_of_trainings_region_mean'] = df_copy['no_of_trainings'] - df_copy.groupby('region')['no_of_trainings'].transform('mean')\n",
    "df_copy['diff_from_no_of_trainings_dept_region_mean'] = df_copy['no_of_trainings'] - df_copy.groupby(['region','department'])['no_of_trainings'].transform('mean')"
   ]
  },
  {
   "cell_type": "markdown",
   "metadata": {},
   "source": [
    "#### Difference between no. of trainings of individual with gender, gender-dept, gender-region, gender-dept-region eompployees"
   ]
  },
  {
   "cell_type": "code",
   "execution_count": 56,
   "metadata": {},
   "outputs": [],
   "source": [
    "df_copy['diff_from_no_of_trainings_gender_mean'] = df_copy['no_of_trainings'] - df_copy.groupby('gender')['no_of_trainings'].transform('mean')\n",
    "df_copy['diff_from_no_of_trainings_gender_region_mean'] = df_copy['no_of_trainings'] - df_copy.groupby(['gender','region'])['no_of_trainings'].transform('mean')\n",
    "df_copy['diff_from_no_of_trainings_gender_dept_mean'] = df_copy['no_of_trainings'] - df_copy.groupby(['department','gender'])['no_of_trainings'].transform('mean')\n",
    "df_copy['diff_from_no_of_trainings_dept_gender_region_dept_mean'] = df_copy['no_of_trainings'] - df_copy.groupby(['region','gender','department'])['no_of_trainings'].transform('mean')"
   ]
  },
  {
   "cell_type": "markdown",
   "metadata": {},
   "source": [
    "#### Difference between no. of trainings of individual with age, age-dept, age-region, age-dept-region eompployees"
   ]
  },
  {
   "cell_type": "code",
   "execution_count": 57,
   "metadata": {},
   "outputs": [],
   "source": [
    "df_copy['diff_from_no_of_trainings_age_mean'] = df_copy['no_of_trainings'] - df_copy.groupby('age_by_position')['no_of_trainings'].transform('mean')\n",
    "df_copy['diff_from_no_of_trainings_age_region_mean'] = df_copy['no_of_trainings'] - df_copy.groupby(['age_by_position','region'])['no_of_trainings'].transform('mean')\n",
    "df_copy['diff_from_no_of_trainings_age_dept_mean'] = df_copy['no_of_trainings'] - df_copy.groupby(['department','age_by_position'])['no_of_trainings'].transform('mean')\n",
    "df_copy['diff_from_no_of_trainings_dept_age_region_dept_mean'] = df_copy['no_of_trainings'] - df_copy.groupby(['region','age_by_position','department'])['no_of_trainings'].transform('mean')"
   ]
  },
  {
   "cell_type": "code",
   "execution_count": null,
   "metadata": {},
   "outputs": [],
   "source": []
  },
  {
   "cell_type": "code",
   "execution_count": 58,
   "metadata": {},
   "outputs": [],
   "source": [
    "num_features=['KPIs_met >80%', 'avg_training_score', 'awards_won?','length_of_service' ,'no_of_trainings','diff_from_avg_training_score_company','diff_from_avg_training_score_dept_mean','diff_from_avg_training_score_region_mean',\n",
    "             'diff_from_avg_training_score_dept_region_mean','diff_from_avg_training_score_gender_mean','diff_from_avg_training_score_gender_region_mean','diff_from_avg_training_score_gender_dept_mean','diff_from_avg_training_score_dept_gender_region_dept_mean',             'diff_from_avg_training_score_age_mean','diff_from_avg_training_score_age_region_mean','diff_from_avg_training_score_age_dept_mean','diff_from_avg_training_score_dept_age_region_dept_mean',\\\n",
    "             'diff_from_no_of_trainings_company','diff_from_no_of_trainings_dept_mean','diff_from_no_of_trainings_region_mean','diff_from_no_of_trainings_dept_region_mean','diff_from_no_of_trainings_gender_mean',\n",
    "             'diff_from_no_of_trainings_gender_region_mean','diff_from_no_of_trainings_gender_dept_mean','diff_from_no_of_trainings_dept_gender_region_dept_mean','diff_from_no_of_trainings_age_mean',\n",
    "             'diff_from_no_of_trainings_age_region_mean','diff_from_no_of_trainings_age_dept_mean','diff_from_no_of_trainings_dept_age_region_dept_mean']\n",
    "cat_features=['department', 'education', 'gender' ,'previous_year_rating','recruitment_channel', 'region','age_by_position']"
   ]
  },
  {
   "cell_type": "code",
   "execution_count": 59,
   "metadata": {},
   "outputs": [
    {
     "name": "stdout",
     "output_type": "stream",
     "text": [
      "X_train: (38365, 92) X_valid: (16443, 92) y_train: (38365,) y_valid: (16443,)\n"
     ]
    }
   ],
   "source": [
    "X_train,X_valid,y_train,y_valid,X_test,X,y=prepare_data(df_copy,num_features,cat_features)"
   ]
  },
  {
   "cell_type": "code",
   "execution_count": 65,
   "metadata": {},
   "outputs": [
    {
     "name": "stdout",
     "output_type": "stream",
     "text": [
      "____________________________________________________________________________________________________ \n",
      "\n",
      "The accuracy of the XGBoost is 0.9389405826187436\n",
      "____________________________________________________________________________________________________ \n",
      "\n",
      "The F1 of the XGboost is 0.5214489990467112\n",
      "____________________________________________________________________________________________________ \n",
      "\n",
      "              precision    recall  f1-score   support\n",
      "\n",
      "         0.0       0.95      0.99      0.97     15057\n",
      "         1.0       0.77      0.39      0.52      1386\n",
      "\n",
      "   micro avg       0.94      0.94      0.94     16443\n",
      "   macro avg       0.86      0.69      0.74     16443\n",
      "weighted avg       0.93      0.94      0.93     16443\n",
      "\n",
      "____________________________________________________________________________________________________\n"
     ]
    },
    {
     "data": {
      "image/png": "[encoded data removed]",
      "text/plain": [
       "<Figure size 432x288 with 2 Axes>"
      ]
     },
     "metadata": {
      "needs_background": "light"
     },
     "output_type": "display_data"
    }
   ],
   "source": [
    "model = XGBClassifier(n_estimators=500,min_child_weight=3,gamma=0,subsample=0.7,colsample_bytree=0.8,max_depth=7,learning_rate=0.1)\n",
    "model.fit(X_train,y_train)\n",
    "prediction1=model.predict(X_valid)\n",
    "print(\"__\"*50,\"\\n\")\n",
    "print('The accuracy of the XGBoost is',metrics.accuracy_score(y_valid,prediction1))\n",
    "print(\"__\"*50,\"\\n\")\n",
    "print('The F1 of the XGboost is',metrics.f1_score(y_valid,prediction1))\n",
    "print(\"__\"*50,\"\\n\")\n",
    "print(classification_report(y_valid,prediction1))\n",
    "print(\"__\"*50)\n",
    "sns.heatmap(confusion_matrix(y_valid,prediction1),annot=True,fmt=\"d\")\n",
    "plt.xlabel('Predicted')\n",
    "plt.ylabel('Actual')\n",
    "plt.title('Confusion Matrix')\n",
    "plt.show()"
   ]
  },
  {
   "cell_type": "code",
   "execution_count": null,
   "metadata": {},
   "outputs": [],
   "source": []
  }
 ],
 "metadata": {
  "kernelspec": {
   "display_name": "Python 3",
   "language": "python",
   "name": "python3"
  },
  "language_info": {
   "codemirror_mode": {
    "name": "ipython",
    "version": 3
   },
   "file_extension": ".py",
   "mimetype": "text/x-python",
   "name": "python",
   "nbconvert_exporter": "python",
   "pygments_lexer": "ipython3",
   "version": "3.6.6"
  }
 },
 "nbformat": 4,
 "nbformat_minor": 2
}
